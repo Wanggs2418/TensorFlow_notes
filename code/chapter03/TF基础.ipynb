{
 "cells": [
  {
   "attachments": {},
   "cell_type": "markdown",
   "metadata": {},
   "source": [
    "### 前向传播"
   ]
  },
  {
   "cell_type": "code",
   "execution_count": 3,
   "metadata": {},
   "outputs": [],
   "source": [
    "import os\n",
    "import numpy as np\n",
    "import tensorflow as tf\n",
    "import matplotlib.pyplot as plt\n",
    "from tensorflow import keras\n",
    "from tensorflow.keras import layers, optimizers, datasets"
   ]
  },
  {
   "cell_type": "code",
   "execution_count": 4,
   "metadata": {},
   "outputs": [],
   "source": [
    "(x, y), (x_val, Y_val) = datasets.mnist.load_data()\n",
    "x = 2 * tf.convert_to_tensor(x, dtype=tf.float32) / 255. -1\n",
    "y = tf.convert_to_tensor(y, dtype=tf.int32)\n",
    "y = tf.one_hot(y, depth=10)"
   ]
  },
  {
   "cell_type": "code",
   "execution_count": null,
   "metadata": {},
   "outputs": [],
   "source": [
    "\"\"\"\n",
    "输入节点：784\n",
    "第一层输出节点：256\n",
    "第二层输出节点：128\n",
    "第三层输出节点：10\n",
    "\"\"\"\n",
    "# 第一层\n",
    "w1 = tf.Variable(tf.random.truncated_normal([784, 256], stddev=0.1))\n",
    "b1 = tf.Variable(tf.zeros([256]))\n",
    "# 第二层\n",
    "w2 = tf.Variable(tf.random.truncated_normal([256, 128], stddev=0.1))\n",
    "b2 = tf.Variable(tf.zeros([128]))\n",
    "# 第三层\n",
    "w3 = tf.Variable(tf.random.truncated_normal([128, 10], stddev=0.1))\n",
    "b3 = tf.Variable(tf.zeros([10]))\n",
    "\n",
    "# 原来输入的 x[1, 28, 28]\n",
    "x = tf.reshape(x, [-1, 28*28])\n",
    "losses = []\n",
    "counters = []\n",
    "\n",
    "for i in range(20):\n",
    "    with tf.GradientTape() as tape:\n",
    "        h1 = tf.nn.relu(x@w1 +b1)\n",
    "        h2 = tf.nn.relu(h1@w2 +b2)\n",
    "        out = tf.nn.relu(h2@w3 +b3)\n",
    "        loss = tf.reduce_mean(tf.square(y -out))\n",
    "        counters.append(i)\n",
    "        losses.append(loss)\n",
    "        gradients = tape.gradient(loss, [w1, b1, w2, b2, w3, b3])\n",
    "\n",
    "for x,y in zip(counters, losses):\n",
    "    plt.plot(x,y)"
   ]
  }
 ],
 "metadata": {
  "kernelspec": {
   "display_name": "Python 3",
   "language": "python",
   "name": "python3"
  },
  "language_info": {
   "codemirror_mode": {
    "name": "ipython",
    "version": 3
   },
   "file_extension": ".py",
   "mimetype": "text/x-python",
   "name": "python",
   "nbconvert_exporter": "python",
   "pygments_lexer": "ipython3",
   "version": "3.8.15"
  },
  "orig_nbformat": 4,
  "vscode": {
   "interpreter": {
    "hash": "7f78ddee4002e2dfa246288d7c1d26ecb3f2a097ed0e0d4db73148b3465835f1"
   }
  }
 },
 "nbformat": 4,
 "nbformat_minor": 2
}
