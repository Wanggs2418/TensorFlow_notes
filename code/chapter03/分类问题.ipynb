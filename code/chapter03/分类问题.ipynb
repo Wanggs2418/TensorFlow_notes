{
 "cells": [
  {
   "attachments": {},
   "cell_type": "markdown",
   "metadata": {},
   "source": [
    "## 3.分类问题"
   ]
  },
  {
   "attachments": {},
   "cell_type": "markdown",
   "metadata": {},
   "source": [
    "### 3.1 手写图片数据集"
   ]
  },
  {
   "attachments": {},
   "cell_type": "markdown",
   "metadata": {},
   "source": [
    "借助MNIST数据集训练识别手写的图片"
   ]
  },
  {
   "cell_type": "code",
   "execution_count": 2,
   "metadata": {},
   "outputs": [],
   "source": [
    "import os\n",
    "import tensorflow as tf\n",
    "from tensorflow import keras\n",
    "from tensorflow.keras import layers, optimizers, datasets"
   ]
  },
  {
   "cell_type": "code",
   "execution_count": 3,
   "metadata": {},
   "outputs": [
    {
     "name": "stdout",
     "output_type": "stream",
     "text": [
      "(60000, 28, 28) (60000, 10)\n"
     ]
    }
   ],
   "source": [
    "(x, y), (x_val, Y_val) = datasets.mnist.load_data()\n",
    "x = 2 * tf.convert_to_tensor(x, dtype=tf.float32) / 255. -1\n",
    "y = tf.convert_to_tensor(y, dtype=tf.int32)\n",
    "y = tf.one_hot(y, depth=10)\n",
    "print(x.shape, y.shape)"
   ]
  },
  {
   "cell_type": "code",
   "execution_count": 4,
   "metadata": {},
   "outputs": [],
   "source": [
    "# 构建数据集对象\n",
    "train_dataset = tf.data.Dataset.from_tensor_slices((x, y))\n",
    "train_dataset = train_dataset.batch(512)"
   ]
  },
  {
   "cell_type": "code",
   "execution_count": null,
   "metadata": {},
   "outputs": [],
   "source": [
    "# 使用TF的Sequential创建多层网络\n",
    "model = keras.Sequential([\n",
    "    # 节点数256\n",
    "    layers.Dense(256, activation='relu'),\n",
    "    layers.Dense(128, activation='relu'),\n",
    "    layers.Dense(10, activation='relu')\n",
    "])\n",
    "\n",
    "\n",
    "with tf.GradientTape() as tape:\n",
    "    # 打平[m, 28, 28]->[m, 28*28]\n",
    "    x = tf.reshape(x, (-1, 28*28))\n",
    "    out = model(x)\n",
    "    y_onehot = tf.one_hot(y, depth=10)\n",
    "    loss = tf.square(out - y_onehot)\n",
    "    loss = tf.reduce_sum(loss) / x.shape[0]\n",
    "    \n",
    "    # 计算梯度\n",
    "    grads = tape.gradient(loss, model.trainable_variables)\n",
    "    # 更新参数\n",
    "    optimizers.apply_gradients(zip(grads, model.trainable_variables))\n"
   ]
  }
 ],
 "metadata": {
  "kernelspec": {
   "display_name": "Python 3",
   "language": "python",
   "name": "python3"
  },
  "language_info": {
   "codemirror_mode": {
    "name": "ipython",
    "version": 3
   },
   "file_extension": ".py",
   "mimetype": "text/x-python",
   "name": "python",
   "nbconvert_exporter": "python",
   "pygments_lexer": "ipython3",
   "version": "3.8.15"
  },
  "orig_nbformat": 4,
  "vscode": {
   "interpreter": {
    "hash": "7f78ddee4002e2dfa246288d7c1d26ecb3f2a097ed0e0d4db73148b3465835f1"
   }
  }
 },
 "nbformat": 4,
 "nbformat_minor": 2
}
