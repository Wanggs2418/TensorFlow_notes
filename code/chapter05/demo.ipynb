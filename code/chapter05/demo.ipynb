{
 "cells": [
  {
   "cell_type": "code",
   "execution_count": 2,
   "metadata": {},
   "outputs": [],
   "source": [
    "import tensorflow as tf\n",
    "from tensorflow import keras\n",
    "# 导入经典数据集模块\n",
    "from tensorflow.keras import datasets\n",
    "import matplotlib \n",
    "from matplotlib import pyplot as plt\n",
    "from mpl_toolkits.mplot3d import Axes3D"
   ]
  },
  {
   "cell_type": "code",
   "execution_count": 3,
   "metadata": {},
   "outputs": [],
   "source": [
    "x = tf.linspace(-8, 8, 100)\n",
    "y = tf.linspace(-8, 8, 100)\n",
    "x, y = tf.meshgrid(x, y)\n",
    "z = tf.sqrt(x**2 + y**2)\n",
    "z = tf.sin(z) / z"
   ]
  },
  {
   "cell_type": "code",
   "execution_count": 4,
   "metadata": {},
   "outputs": [
    {
     "data": {
      "text/plain": [
       "<Figure size 640x480 with 0 Axes>"
      ]
     },
     "metadata": {},
     "output_type": "display_data"
    }
   ],
   "source": [
    "fig = plt.figure()\n",
    "ax = Axes3D(fig)\n",
    "ax.contour3D(x.numpy(), y.numpy(), z.numpy(), 50)\n",
    "plt.show()"
   ]
  },
  {
   "cell_type": "code",
   "execution_count": 5,
   "metadata": {},
   "outputs": [],
   "source": [
    "(x,y), (x_test, y_test)=datasets.mnist.load_data()"
   ]
  },
  {
   "cell_type": "code",
   "execution_count": 6,
   "metadata": {},
   "outputs": [
    {
     "name": "stdout",
     "output_type": "stream",
     "text": [
      "x：(60000, 28, 28),y：(60000,),x_test：(10000, 28, 28),y_test：(10000,)\n"
     ]
    }
   ],
   "source": [
    "print(\"x：{0},y：{1},x_test：{2},y_test：{3}\".format(x.shape, y.shape, x_test.shape, y_test.shape))"
   ]
  },
  {
   "cell_type": "code",
   "execution_count": 7,
   "metadata": {},
   "outputs": [],
   "source": [
    "# 转换为Dataset对象\n",
    "train_db = tf.data.Dataset.from_tensor_slices((x, y))"
   ]
  },
  {
   "cell_type": "code",
   "execution_count": 8,
   "metadata": {},
   "outputs": [],
   "source": [
    "# 随机打散，返回一个 Dataset 新对象\n",
    "# Dataset.shuffle(buffer_size),其中buffer_size参数指定缓冲池的大小\n",
    "train_db = train_db.shuffle(10000) #随机打散样本，但是不打散样本与标签的映射关系"
   ]
  },
  {
   "cell_type": "code",
   "execution_count": 9,
   "metadata": {},
   "outputs": [],
   "source": [
    "# 批训练，同时计算多个样本\n",
    "# 一次并行 128 个样本数据，数量大小根据显存配置\n",
    "train_db = train_db.batch(128)"
   ]
  },
  {
   "cell_type": "code",
   "execution_count": 10,
   "metadata": {},
   "outputs": [],
   "source": [
    "# 预处理，使得数据集的各式满足模型的输入要求\n",
    "def preprocess(x, y):\n",
    "    \"\"\"\n",
    "    自定义预处理函数\n",
    "    参数：\n",
    "    x -- 待处理的数据集,维度[b,28,28]\n",
    "    y -- 待处理的数据集,[b]\n",
    "\n",
    "    返回值：\n",
    "    x -- 标准化和扁平化后的 x\n",
    "    y -- 转换为 one_hot 向量\n",
    "    \"\"\"\n",
    "    x = tf.cast(x, dtype=tf.float32) / 255. #标准化0-1\n",
    "    x = tf.reshape(x, [-1, 28*28]) #扁平化\n",
    "\n",
    "    y = tf.cast(x, dtype=tf.int32)\n",
    "    y = tf.one_hot(y, depth=10)\n",
    "\n",
    "    return x,y"
   ]
  },
  {
   "cell_type": "code",
   "execution_count": 11,
   "metadata": {},
   "outputs": [],
   "source": [
    "train_db = train_db.map(preprocess)"
   ]
  },
  {
   "cell_type": "code",
   "execution_count": 12,
   "metadata": {},
   "outputs": [],
   "source": [
    "# 第一层\n",
    "w1 = tf.Variable(tf.random.truncated_normal([784, 256], stddev=0.1))\n",
    "b1 = tf.Variable(tf.zeros([256]))\n",
    "# 第二层\n",
    "w2 = tf.Variable(tf.random.truncated_normal([256, 128], stddev=0.1))\n",
    "b2 = tf.Variable(tf.zeros([128]))\n",
    "# 第三层\n",
    "w3 = tf.Variable(tf.random.truncated_normal([128, 10], stddev=0.1))\n",
    "b3 = tf.Variable(tf.zeros([10]))"
   ]
  },
  {
   "cell_type": "code",
   "execution_count": null,
   "metadata": {},
   "outputs": [],
   "source": [
    "for epoch in range(20):\n",
    "    for x,y in train_db:\n",
    "        h1 = x @ w1 + b1\n",
    "        h1 = tf.nn.relu(h1)\n",
    "        h2 = h1 @ w2 +b2\n",
    "        h2 = tf.nn.relu(h2)\n",
    "        out = h2 @ w3 + b3\n",
    "        pred = tf.argmax(out, axis=1)\n",
    "        y = tf.argmax(y, axis=1)\n",
    "        correct = tf.equal(pred, y)\n",
    "        total_correct += tf.reduce_sum(tf.cast(correct, dtype=tf.int32)).numpy()\n"
   ]
  }
 ],
 "metadata": {
  "kernelspec": {
   "display_name": "Python 3",
   "language": "python",
   "name": "python3"
  },
  "language_info": {
   "codemirror_mode": {
    "name": "ipython",
    "version": 3
   },
   "file_extension": ".py",
   "mimetype": "text/x-python",
   "name": "python",
   "nbconvert_exporter": "python",
   "pygments_lexer": "ipython3",
   "version": "3.8.15"
  },
  "orig_nbformat": 4,
  "vscode": {
   "interpreter": {
    "hash": "7f78ddee4002e2dfa246288d7c1d26ecb3f2a097ed0e0d4db73148b3465835f1"
   }
  }
 },
 "nbformat": 4,
 "nbformat_minor": 2
}
