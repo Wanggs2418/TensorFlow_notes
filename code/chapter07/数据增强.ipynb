{
 "cells": [
  {
   "cell_type": "code",
   "execution_count": 14,
   "metadata": {},
   "outputs": [],
   "source": [
    "import tensorflow as tf\n",
    "from tensorflow import image \n",
    "import matplotlib.pyplot as plt"
   ]
  },
  {
   "cell_type": "code",
   "execution_count": 12,
   "metadata": {},
   "outputs": [],
   "source": [
    "def preprocess():\n",
    "    \"\"\"\n",
    "    参数：\n",
    "    x -- 图片路径\n",
    "    y -- 图片的数字编码\n",
    "    \"\"\"\n",
    "    x = tf.io.read_file(\"image/11.jpg\")\n",
    "    x = tf.image.decode_jpeg(x, channels=3)\n",
    "    #图像缩放到 244×244 大小\n",
    "    x = tf.image.resize(x, [244, 244])\n",
    "    return x"
   ]
  },
  {
   "cell_type": "code",
   "execution_count": null,
   "metadata": {},
   "outputs": [],
   "source": [
    "x = preprocess()\n",
    "plt.imshow(x)"
   ]
  },
  {
   "cell_type": "code",
   "execution_count": null,
   "metadata": {},
   "outputs": [],
   "source": [
    "x = tf.io.read_file(\"image/11.jpg\")\n",
    "x = tf.image.decode_jpeg(x, channels=3)\n",
    "#图像缩放到 244×244 大小\n",
    "x = tf.image.resize(x, [244, 244])\n",
    "tf.image.encode_jpeg(x)"
   ]
  }
 ],
 "metadata": {
  "kernelspec": {
   "display_name": "Python 3",
   "language": "python",
   "name": "python3"
  },
  "language_info": {
   "codemirror_mode": {
    "name": "ipython",
    "version": 3
   },
   "file_extension": ".py",
   "mimetype": "text/x-python",
   "name": "python",
   "nbconvert_exporter": "python",
   "pygments_lexer": "ipython3",
   "version": "3.8.15"
  },
  "orig_nbformat": 4
 },
 "nbformat": 4,
 "nbformat_minor": 2
}
