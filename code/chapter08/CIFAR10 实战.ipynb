{
 "cells": [
  {
   "cell_type": "code",
   "execution_count": 17,
   "metadata": {},
   "outputs": [],
   "source": [
    "import tensorflow as tf\n",
    "from tensorflow import keras\n",
    "from tensorflow.keras import datasets, layers, Sequential, optimizers, losses"
   ]
  },
  {
   "cell_type": "code",
   "execution_count": 18,
   "metadata": {},
   "outputs": [],
   "source": [
    "# 数据的前处理模块\n",
    "def preprocess(x, y):\n",
    "    x = tf.cast(x, dtype=tf.float32) / 255.\n",
    "    y = tf.cast(y, dtype=tf.int32)\n",
    "    return x, y"
   ]
  },
  {
   "cell_type": "code",
   "execution_count": 19,
   "metadata": {},
   "outputs": [
    {
     "name": "stdout",
     "output_type": "stream",
     "text": [
      "(50000, 32, 32, 3) (50000, 1)\n",
      "一个batch维度： (64, 32, 32, 3) (64,)\n",
      "x最小值： tf.Tensor(0.0, shape=(), dtype=float32) x的最大值 tf.Tensor(1.0, shape=(), dtype=float32)\n"
     ]
    }
   ],
   "source": [
    "# 数据的预处理\n",
    "batchz = 64\n",
    "\n",
    "(x_train, y_train), (x_test, y_test) = datasets.cifar10.load_data()\n",
    "print(x_train.shape,y_train.shape)\n",
    "y_train = tf.squeeze(y_train, axis=1)\n",
    "y_test = tf.squeeze(y_test, axis=1)\n",
    "train_db = tf.data.Dataset.from_tensor_slices((x_train, y_train))\n",
    "test_db = tf.data.Dataset.from_tensor_slices((x_test, y_test))\n",
    "train_db = train_db.map(preprocess).shuffle(1000).batch(batchz)\n",
    "test_db = test_db.map(preprocess).batch(batchz)\n",
    "\n",
    "example = next(iter(train_db))\n",
    "print(\"一个batch维度：\", example[0].shape, example[1].shape)\n",
    "print(\"x最小值：\",tf.reduce_min(example[0]), \"x的最大值\", tf.reduce_max(example[0]))"
   ]
  },
  {
   "cell_type": "code",
   "execution_count": null,
   "metadata": {},
   "outputs": [],
   "source": [
    "conv_layers = [\n",
    "    # Conv-Conv-Pooling 单元 1\n",
    "    # 64 个卷积核，输入输出大小同\n",
    "    layers.Conv2D(64, kernel_size=[3,3], padding='same', activation=tf.nn.relu),\n",
    "    layers.Conv2D(64, kernel_size=[3,3], padding='same', activation=tf.nn.relu),\n",
    "    layers.MaxPool2D(pool_size=[2,2], strides=2, padding='same'),\n",
    "\n",
    "    # 单元2\n",
    "    layers.Conv2D(128, kernel_size=[3,3], padding='same', activation=tf.nn.relu),\n",
    "    layers.Conv2D(128, kernel_size=[3,3], padding='same', activation=tf.nn.relu),\n",
    "    layers.MaxPool2D(pool_size=[2,2], strides=2, padding='same'),\n",
    "\n",
    "    # 单元3\n",
    "    layers.Conv2D(256, kernel_size=[3,3], padding='same', activation=tf.nn.relu),\n",
    "    layers.Conv2D(256, kernel_size=[3,3], padding='same', activation=tf.nn.relu),\n",
    "    layers.MaxPool2D(pool_size=[2,2], strides=2, padding='same'),\n",
    "\n",
    "    # 单元4\n",
    "    layers.Conv2D(512, kernel_size=[3,3], padding='same', activation=tf.nn.relu),\n",
    "    layers.Conv2D(512, kernel_size=[3,3], padding='same', activation=tf.nn.relu),\n",
    "    layers.MaxPool2D(pool_size=[2,2], strides=2, padding='same'),\n",
    "\n",
    "    # 单元5\n",
    "    layers.Conv2D(512, kernel_size=[3,3], padding='same', activation=tf.nn.relu),\n",
    "    layers.Conv2D(512, kernel_size=[3,3], padding='same', activation=tf.nn.relu),\n",
    "    layers.MaxPool2D(pool_size=[2,2], strides=2, padding='same'),\n",
    "\n",
    "    # 3个全连接层\n",
    "    layers.Flatten(),\n",
    "    layers.Dense(256, activation=tf.nn.relu),\n",
    "    layers.Dense(128, activation=tf.nn.relu),\n",
    "    layers.Dense(10)\n",
    "]\n",
    "\n",
    "VGG13_net = Sequential(conv_layers)\n",
    "VGG13_net.build(input_shape=[None, 32, 32, 3])\n",
    "VGG13_net.summary()"
   ]
  },
  {
   "cell_type": "code",
   "execution_count": null,
   "metadata": {},
   "outputs": [],
   "source": [
    "optimizer = optimizers.Adam(learning_rate=0.001)\n",
    "for epoch in range(10):\n",
    "    for step, (x,y) in enumerate(train_db):\n",
    "        with tf.GradientTape() as tape:\n",
    "            # [b, 32, 32, 3]=> [b, 10]\n",
    "            logits = VGG13_net(x)\n",
    "            y_onehot = tf.one_hot(y, depth=10)\n",
    "            loss = tf.losses.categorical_crossentropy(y_onehot, logits, from_logits=True)\n",
    "            loss = tf.reduce_mean(loss)\n",
    "        grads = tape.gradient(loss, VGG13_net.variables)\n",
    "        optimizer.apply_gradients(zip(grads, VGG13_net.variables))\n",
    "        \n",
    "        if step % 200 == 0:\n",
    "            print(epoch, step, '损失：', float(loss))\n",
    "    \n",
    "    total_num, total_correct = 0, 0\n",
    "    \n",
    "    for x,y in test_db:\n",
    "        logits = VGG13_net(x,training=False)\n",
    "        prob = tf.nn.softmax(logits, axis=1)\n",
    "        pred = tf.argmax(prob, axis=1)\n",
    "        pred = tf.cast(pred, dtype=tf.int32)\n",
    "\n",
    "        correct = tf.cast(tf.equal(pred, y), dtype=tf.int32)\n",
    "        correct = tf.reduce_sum(correct)\n",
    "\n",
    "        total_num += x.shape[0]\n",
    "        total_correct += int(correct)\n",
    "\n",
    "    acc = total_correct / total_num\n",
    "    print(epoch, 'acc:', acc) "
   ]
  },
  {
   "attachments": {},
   "cell_type": "markdown",
   "metadata": {},
   "source": [
    "此处模型的参数为 900万\n",
    "\n",
    "训练速度慢，更改 batch_size 变小,64-512"
   ]
  }
 ],
 "metadata": {
  "kernelspec": {
   "display_name": "Python 3",
   "language": "python",
   "name": "python3"
  },
  "language_info": {
   "codemirror_mode": {
    "name": "ipython",
    "version": 3
   },
   "file_extension": ".py",
   "mimetype": "text/x-python",
   "name": "python",
   "nbconvert_exporter": "python",
   "pygments_lexer": "ipython3",
   "version": "3.8.15"
  },
  "orig_nbformat": 4
 },
 "nbformat": 4,
 "nbformat_minor": 2
}
