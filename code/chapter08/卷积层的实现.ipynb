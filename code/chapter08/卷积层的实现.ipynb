{
 "cells": [
  {
   "cell_type": "code",
   "execution_count": 2,
   "metadata": {},
   "outputs": [],
   "source": [
    "import tensorflow as tf\n",
    "from tensorflow.keras import layers"
   ]
  },
  {
   "attachments": {},
   "cell_type": "markdown",
   "metadata": {},
   "source": [
    "自定义权值，通过 `tf.nn.conv2d` 函数可以方便实现 2D 卷积运算"
   ]
  },
  {
   "cell_type": "code",
   "execution_count": 3,
   "metadata": {},
   "outputs": [],
   "source": [
    "# 2样本，5×5，3通道,[m, h, w, c]\n",
    "x = tf.random.normal([2, 5, 5, 3])\n",
    "# 4个 3×3 大小的卷积核\n",
    "w = tf.random.normal([3, 3, 3, 4])\n",
    "# padding=[[0,0],[上，下],[左，右],[0,0]]\n",
    "#此处各填充一个单位\n",
    "out = tf.nn.conv2d(x, w, strides=1, padding=[[0,0],[1,1],[1,1],[0,0]])"
   ]
  },
  {
   "cell_type": "code",
   "execution_count": 4,
   "metadata": {},
   "outputs": [],
   "source": [
    "# 设置参数padding='SAME'，s=1,TF 可自动完成填充\n",
    "out = tf.nn.conv2d(x, w, strides=1, padding='SAME')\n",
    "#当 s>1 时，padding='SAME',将使得高宽成 1/s 倍减少"
   ]
  },
  {
   "cell_type": "code",
   "execution_count": 5,
   "metadata": {},
   "outputs": [],
   "source": [
    "# tf.nn.conv2d 没有实现偏置向量，需手动添加\n",
    "b = tf.zeros([4])\n",
    "# 利用广播性能\n",
    "out = out + b"
   ]
  },
  {
   "attachments": {},
   "cell_type": "markdown",
   "metadata": {},
   "source": [
    "卷积层类\n",
    "\n",
    "新建卷积类时，只需指定卷积核数量参数 filters,卷积核大小 kernel_size,步长 strides，填充即可"
   ]
  },
  {
   "cell_type": "code",
   "execution_count": 6,
   "metadata": {},
   "outputs": [],
   "source": [
    "# 卷积核的高宽相等\n",
    "layer = layers.Conv2D(4, kernel_size=3, strides=1, padding='SAME')\n",
    "# 卷积核的高宽不等\n",
    "layer1 = layers.Conv2D(4, kernel_size=(3, 4), strides=(2, 1), padding='SAME')"
   ]
  },
  {
   "cell_type": "code",
   "execution_count": 7,
   "metadata": {},
   "outputs": [],
   "source": [
    "# 创建完成后，通过调用实例(的 __call__ 方法)即可完成前向计算\n",
    "# 即实例化的同时完成前向计算\n",
    "out = layer(x)"
   ]
  },
  {
   "cell_type": "code",
   "execution_count": null,
   "metadata": {},
   "outputs": [],
   "source": [
    "# 返回待优化张量列表\n",
    "layer.trainable_variables"
   ]
  },
  {
   "cell_type": "code",
   "execution_count": null,
   "metadata": {},
   "outputs": [],
   "source": [
    "# 也可以直接调用访问权值 W 和 b\n",
    "layer.kernel\n",
    "layer.bias"
   ]
  }
 ],
 "metadata": {
  "kernelspec": {
   "display_name": "Python 3",
   "language": "python",
   "name": "python3"
  },
  "language_info": {
   "codemirror_mode": {
    "name": "ipython",
    "version": 3
   },
   "file_extension": ".py",
   "mimetype": "text/x-python",
   "name": "python",
   "nbconvert_exporter": "python",
   "pygments_lexer": "ipython3",
   "version": "3.8.15"
  },
  "orig_nbformat": 4
 },
 "nbformat": 4,
 "nbformat_minor": 2
}
