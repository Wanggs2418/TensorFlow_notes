{
 "cells": [
  {
   "cell_type": "markdown",
   "metadata": {},
   "source": [
    "### 转置卷积的实现"
   ]
  },
  {
   "cell_type": "code",
   "execution_count": null,
   "metadata": {},
   "outputs": [],
   "source": [
    "import tensorflow as tf\n",
    "\n",
    "# 创建 4×4 大小输入\n",
    "x = tf.range(16)+1\n",
    "x = tf.cast(tf.reshape(x, [1, 4, 4, 1]), tf.float32)\n",
    "\n",
    "# 创建 3×3 卷积核\n",
    "w = tf.constant([[-1., 2, -3], [4, -5, -6], [-7, 8, -9]])\n",
    "w = tf.expand_dims(w, axis=2)\n",
    "w = tf.expand_dims(w, axis=3)\n",
    "# print(w)\n"
   ]
  },
  {
   "cell_type": "code",
   "execution_count": null,
   "metadata": {},
   "outputs": [],
   "source": [
    "# 普通卷积运算\n",
    "out = tf.nn.conv2d(x, w, strides=1, padding='VALID')\n",
    "# print(out)"
   ]
  },
  {
   "cell_type": "code",
   "execution_count": null,
   "metadata": {},
   "outputs": [],
   "source": [
    "# 保持 strides=1, padding='VALID',卷积核不变的情况下，通过卷积核于输出 out 的转置卷积运算恢复与 x 相同大小的高宽张量\n",
    "xx = tf.nn.conv2d_transpose(out, w, strides=1, padding='VALID', output_shape=[1, 4, 4, 1])\n",
    "xx\n"
   ]
  },
  {
   "attachments": {},
   "cell_type": "markdown",
   "metadata": {},
   "source": [
    "### 实现 ResBlock"
   ]
  },
  {
   "cell_type": "code",
   "execution_count": null,
   "metadata": {},
   "outputs": [],
   "source": [
    "from tensorflow import keras\n",
    "from tensorflow.keras import datasets, layers, Sequential, optimizers, losses"
   ]
  },
  {
   "attachments": {},
   "cell_type": "markdown",
   "metadata": {},
   "source": [
    "基本块单元"
   ]
  },
  {
   "cell_type": "code",
   "execution_count": null,
   "metadata": {},
   "outputs": [],
   "source": [
    "class BasicBlock(layers.Layer):\n",
    "    def __init__(self, filter_num, stride=1):\n",
    "        super(BasicBlock, self).__init__()\n",
    "        self.conv1 = layers.Conv2D(filter_num, (3, 3), strides=stride, padding='same')\n",
    "        self.bn1 = layers.BatchNormalization()\n",
    "        self.relu = layers.Activation('relu')\n",
    "\n",
    "        self.conv2 = layers.Conv2D(filter_num, (3, 3), strides=1, padding='same')\n",
    "        self.bn2 = layers.BatchNormalization()\n",
    "\n",
    "        # 形状的的转换\n",
    "        # stride > 1,相当于下采样\n",
    "        if stride != 1:\n",
    "            self.downsample = Sequential()\n",
    "            self.downsample.add(layers.Conv2D(filter_num, (1, 1), strides=stride))\n",
    "        else:\n",
    "            self.downsample = lambda x:x\n",
    "    # 前向传播函数，[b, h, w, c]\n",
    "    def call(self, inputs, training=None):\n",
    "        out = self.conv1(inputs)\n",
    "        out = self.bn1(out, training=training)\n",
    "        out = self.relu(out)\n",
    "\n",
    "        out = self.conv2(out)\n",
    "        out = self.bn2(out, training=training)\n",
    "        identity = self.downsample(inputs)\n",
    "        # f(x)+x的运算\n",
    "        add = layers.add([out, identity])\n",
    "        # 不建议使用 self.relu()\n",
    "        output = tf.nn.relu(add)\n",
    "        return output"
   ]
  },
  {
   "attachments": {},
   "cell_type": "markdown",
   "metadata": {},
   "source": [
    "单元块组装"
   ]
  },
  {
   "cell_type": "code",
   "execution_count": null,
   "metadata": {},
   "outputs": [],
   "source": [
    "class ResNet(keras.Model):\n",
    "    # [2,2,2,2],全连接层输出大小 100\n",
    "    def __init__(self, layer_dims,  num_classes=10):\n",
    "        super(ResNet, self).__init__()\n",
    "        # 第一层\n",
    "        self.stem = Sequential([layers.Conv2D(64, (3, 3), strides=(1, 1)), \n",
    "                                layers.BatchNormalization(),\n",
    "                                layers.Activation('relu'),\n",
    "                                layers.MaxPool2D(pool_size=(2, 2), strides=(1, 1), padding='same')\n",
    "                                ])\n",
    "        # 64, 128等表示通道数\n",
    "        self.layer1 = self.build_resblock(64,  layer_dims[0])\n",
    "        self.layer2 = self.build_resblock(128, layer_dims[1], stride=2)\n",
    "        self.layer3 = self.build_resblock(256, layer_dims[2], stride=2)\n",
    "        self.layer4 = self.build_resblock(512, layer_dims[3], stride=2)\n",
    "        \n",
    "        # [b ,512, h, w]=>[b, 512, 1, 1]\n",
    "        # 输出层\n",
    "        self.avgpool = layers.GlobalAveragePooling2D()\n",
    "        self.fc = layers.Dense(num_classes)\n",
    "        \n",
    "    def call(self, inputs, training=None, mask=None):\n",
    "        x = self.stem(inputs, training=training)\n",
    "        x = self.layer1(x, training=training)\n",
    "        x = self.layer2(x, training=training)\n",
    "        x = self.layer3(x, training=training)\n",
    "        x = self.layer4(x, training=training)\n",
    "\n",
    "        x = self.avgpool(x)\n",
    "        x = self.fc(x)\n",
    "\n",
    "        return x\n",
    "    \n",
    "    def build_resblock(self, filter_num, blocks, stride=1):\n",
    "        # blocks残差层块数,如blocks=2\n",
    "        res_block = Sequential()\n",
    "        res_block.add(BasicBlock(filter_num, stride))\n",
    "\n",
    "        for _ in range(1, blocks):\n",
    "            res_block.add(BasicBlock(filter_num, stride=1))\n",
    "        return res_block       "
   ]
  },
  {
   "cell_type": "markdown",
   "metadata": {},
   "source": [
    "resnet18 网络模型定义"
   ]
  },
  {
   "cell_type": "code",
   "execution_count": null,
   "metadata": {},
   "outputs": [],
   "source": [
    "def resnet18():\n",
    "    # layer_dims\n",
    "    return ResNet([2, 2, 2, 2])"
   ]
  },
  {
   "attachments": {},
   "cell_type": "markdown",
   "metadata": {},
   "source": [
    "resnet34 网络模型定义"
   ]
  },
  {
   "cell_type": "code",
   "execution_count": null,
   "metadata": {},
   "outputs": [],
   "source": [
    "def resnet34():\n",
    "    # layer_dims\n",
    "    return ResNet([3, 4, 6, 3])"
   ]
  },
  {
   "attachments": {},
   "cell_type": "markdown",
   "metadata": {},
   "source": [
    "### 数据集训练 ResNet18"
   ]
  },
  {
   "cell_type": "code",
   "execution_count": null,
   "metadata": {},
   "outputs": [],
   "source": [
    "# 可选择导入自定义的包 resnet\n",
    "# from resnet import resnet18"
   ]
  },
  {
   "cell_type": "code",
   "execution_count": null,
   "metadata": {},
   "outputs": [],
   "source": [
    "# 数据的前处理模块\n",
    "def preprocess(x, y):\n",
    "    x = tf.cast(x, dtype=tf.float32) / 255. - 1.\n",
    "    y = tf.cast(y, dtype=tf.int32)\n",
    "    return x, y"
   ]
  },
  {
   "cell_type": "code",
   "execution_count": null,
   "metadata": {},
   "outputs": [],
   "source": [
    "(x_train, y_train), (x_test, y_test) = datasets.cifar10.load_data()\n",
    "print(x_train.shape,y_train.shape)\n",
    "y_train = tf.squeeze(y_train, axis=1)\n",
    "y_test = tf.squeeze(y_test, axis=1)\n",
    "train_db = tf.data.Dataset.from_tensor_slices((x_train, y_train))\n",
    "test_db = tf.data.Dataset.from_tensor_slices((x_test, y_test))\n",
    "train_db = train_db.map(preprocess).shuffle(1000).batch(128)\n",
    "test_db = test_db.map(preprocess).batch(128)\n",
    "example = next(iter(train_db))\n",
    "print(\"一个batch维度：\", example[0].shape, example[1].shape)\n",
    "print(\"x最小值：\",tf.reduce_min(example[0]), \"x的最大值\", tf.reduce_max(example[0]))"
   ]
  },
  {
   "cell_type": "code",
   "execution_count": null,
   "metadata": {},
   "outputs": [],
   "source": [
    "model = resnet18()\n",
    "# 第一层为 3×3,s=1,32+1-3/1=30\n",
    "model.build(input_shape=[None, 32, 32, 3])\n",
    "model.summary()"
   ]
  },
  {
   "cell_type": "code",
   "execution_count": null,
   "metadata": {},
   "outputs": [],
   "source": [
    "optimizer = optimizers.Adam(learning_rate=0.001)\n",
    "for epoch in range(10):\n",
    "    for step, (x,y) in enumerate(train_db):\n",
    "        with tf.GradientTape() as tape:\n",
    "            # [b, 32, 32, 3]=> [b, 100]\n",
    "            logits = model(x)\n",
    "            y_onehot = tf.one_hot(y, depth=10)\n",
    "            loss = tf.losses.categorical_crossentropy(y_onehot, logits, from_logits=True)\n",
    "            loss = tf.reduce_mean(loss)\n",
    "        grads = tape.gradient(loss, model.variables)\n",
    "        optimizer.apply_gradients(zip(grads, model.variables))\n",
    "        \n",
    "        if step % 200 == 0:\n",
    "            print(epoch, step, '损失：', float(loss))\n",
    "\n",
    "\n",
    "    # 测试\n",
    "    # total_num, total_correct = 0, 0\n",
    "    # for x,y in test_db:\n",
    "    #     logits = model(x, training=False)\n",
    "    #     prob = tf.nn.softmax(logits, axis=1)\n",
    "    #     pred = tf.argmax(prob, axis=1)\n",
    "    #     pred = tf.cast(pred, dtype=tf.int32)\n",
    "\n",
    "    #     correct = tf.cast(tf.equal(pred, y), dtype=tf.int32)\n",
    "    #     correct = tf.reduce_sum(correct)\n",
    "\n",
    "    #     total_num += x.shape[0]\n",
    "    #     total_correct += int(correct)\n",
    "\n",
    "    # acc = total_correct / total_num\n",
    "    # print(epoch, 'acc:', acc)"
   ]
  }
 ],
 "metadata": {
  "kernelspec": {
   "display_name": "Python 3",
   "language": "python",
   "name": "python3"
  },
  "language_info": {
   "codemirror_mode": {
    "name": "ipython",
    "version": 3
   },
   "file_extension": ".py",
   "mimetype": "text/x-python",
   "name": "python",
   "nbconvert_exporter": "python",
   "pygments_lexer": "ipython3",
   "version": "3.8.15"
  },
  "orig_nbformat": 4
 },
 "nbformat": 4,
 "nbformat_minor": 2
}
