{
 "cells": [
  {
   "cell_type": "code",
   "execution_count": 1,
   "metadata": {},
   "outputs": [],
   "source": [
    "import tensorflow as tf\n",
    "from tensorflow import keras\n",
    "from tensorflow.keras import layers, datasets"
   ]
  },
  {
   "cell_type": "code",
   "execution_count": 9,
   "metadata": {},
   "outputs": [
    {
     "name": "stdout",
     "output_type": "stream",
     "text": [
      "tf.Tensor([0 1 2 3 4 5 6 7 8 9], shape=(10,), dtype=int32)\n",
      "tf.Tensor([2 0 1 9 6 3 7 4 8 5], shape=(10,), dtype=int32)\n",
      "tf.Tensor(\n",
      "[[-0.01543745 -0.0087777  -0.0446221  -0.03269279]\n",
      " [ 0.00245612  0.03518665 -0.01397281 -0.01812758]\n",
      " [-0.04655596  0.02843729  0.02555266  0.03509006]\n",
      " [-0.02314006  0.0335464  -0.00314863 -0.00068383]\n",
      " [-0.02387351 -0.01466048 -0.03196689  0.01343488]\n",
      " [-0.02637326 -0.01813256  0.01921226 -0.01290036]\n",
      " [-0.02818339  0.02377429 -0.04545987 -0.02338891]\n",
      " [ 0.03988026 -0.04180391  0.04833743 -0.03009104]\n",
      " [-0.00541577 -0.0136103  -0.00049096 -0.00729864]\n",
      " [ 0.00318483 -0.01020775 -0.02371028  0.04075596]], shape=(10, 4), dtype=float32)\n"
     ]
    }
   ],
   "source": [
    "x = tf.range(10)\n",
    "print(x)\n",
    "x = tf.random.shuffle(x)\n",
    "print(x)\n",
    "net = layers.Embedding(10, 4)\n",
    "out = net(x)\n",
    "print(out)"
   ]
  },
  {
   "cell_type": "markdown",
   "metadata": {},
   "source": [
    "global vectors for word representation"
   ]
  },
  {
   "cell_type": "code",
   "execution_count": null,
   "metadata": {},
   "outputs": [],
   "source": [
    "embed_glove = datasets.load_embed('E:\\TensorFlow_notes\\source_code\\glove.6B')"
   ]
  }
 ],
 "metadata": {
  "kernelspec": {
   "display_name": "Python 3",
   "language": "python",
   "name": "python3"
  },
  "language_info": {
   "codemirror_mode": {
    "name": "ipython",
    "version": 3
   },
   "file_extension": ".py",
   "mimetype": "text/x-python",
   "name": "python",
   "nbconvert_exporter": "python",
   "pygments_lexer": "ipython3",
   "version": "3.8.15"
  },
  "orig_nbformat": 4
 },
 "nbformat": 4,
 "nbformat_minor": 2
}
