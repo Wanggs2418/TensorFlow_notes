{
 "cells": [
  {
   "cell_type": "code",
   "execution_count": 1,
   "metadata": {},
   "outputs": [],
   "source": [
    "import tensorflow as tf\n",
    "from tensorflow import keras\n",
    "from tensorflow.keras import layers, datasets"
   ]
  },
  {
   "attachments": {},
   "cell_type": "markdown",
   "metadata": {},
   "source": [
    "SimpleRNNCell"
   ]
  },
  {
   "cell_type": "code",
   "execution_count": 4,
   "metadata": {},
   "outputs": [
    {
     "data": {
      "text/plain": [
       "[<tf.Variable 'kernel:0' shape=(4, 3) dtype=float32, numpy=\n",
       " array([[-0.1607036 ,  0.8467463 ,  0.4408394 ],\n",
       "        [ 0.7767209 ,  0.81851137,  0.71553266],\n",
       "        [ 0.2526785 ,  0.07507026,  0.6817385 ],\n",
       "        [ 0.5988991 ,  0.7493739 , -0.57618034]], dtype=float32)>,\n",
       " <tf.Variable 'recurrent_kernel:0' shape=(3, 3) dtype=float32, numpy=\n",
       " array([[-0.6921053 ,  0.09710191,  0.7152351 ],\n",
       "        [ 0.6253018 , -0.41430035,  0.66132665],\n",
       "        [ 0.36053824,  0.90494555,  0.22602147]], dtype=float32)>,\n",
       " <tf.Variable 'bias:0' shape=(3,) dtype=float32, numpy=array([0., 0., 0.], dtype=float32)>]"
      ]
     },
     "execution_count": 4,
     "metadata": {},
     "output_type": "execute_result"
    }
   ],
   "source": [
    "cell = layers.SimpleRNNCell(3)\n",
    "# 输出特征长度为4\n",
    "cell.build(input_shape=(None, 4))\n",
    "cell.trainable_variables"
   ]
  },
  {
   "cell_type": "code",
   "execution_count": null,
   "metadata": {},
   "outputs": [],
   "source": [
    "# 4个句子，每个句子80个单词，每个单词用100维向量表示\n",
    "x = tf.random.normal([4, 80, 100])\n",
    "# to时刻，取4个句子中的第一个单词,x_to:[4, 100]\n",
    "x_t0 = x[:,0,:]\n",
    "cell = tf.keras.layers.SimpleRNNCell(64)\n",
    "h_t0 = tf.zeros([4, 64])\n",
    "out, h_t1 = cell(x_t0, h_t0)"
   ]
  }
 ],
 "metadata": {
  "kernelspec": {
   "display_name": "Python 3",
   "language": "python",
   "name": "python3"
  },
  "language_info": {
   "codemirror_mode": {
    "name": "ipython",
    "version": 3
   },
   "file_extension": ".py",
   "mimetype": "text/x-python",
   "name": "python",
   "nbconvert_exporter": "python",
   "pygments_lexer": "ipython3",
   "version": "3.8.15"
  },
  "orig_nbformat": 4
 },
 "nbformat": 4,
 "nbformat_minor": 2
}
