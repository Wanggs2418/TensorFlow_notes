{
 "cells": [
  {
   "cell_type": "code",
   "execution_count": 11,
   "metadata": {},
   "outputs": [],
   "source": [
    "import tensorflow as tf\n",
    "from tensorflow import keras\n",
    "from tensorflow.keras import layers, datasets"
   ]
  },
  {
   "attachments": {},
   "cell_type": "markdown",
   "metadata": {},
   "source": [
    "SimpleRNNCell\n",
    "\n",
    "仅完成一个时间戳的前向计算"
   ]
  },
  {
   "cell_type": "code",
   "execution_count": 12,
   "metadata": {},
   "outputs": [
    {
     "data": {
      "text/plain": [
       "[<tf.Variable 'kernel:0' shape=(4, 3) dtype=float32, numpy=\n",
       " array([[-0.5959326 ,  0.07959998,  0.6802938 ],\n",
       "        [-0.65122926,  0.06131798, -0.18109131],\n",
       "        [ 0.68067324,  0.29581606, -0.64695394],\n",
       "        [ 0.3185153 , -0.15899158, -0.5627804 ]], dtype=float32)>,\n",
       " <tf.Variable 'recurrent_kernel:0' shape=(3, 3) dtype=float32, numpy=\n",
       " array([[-0.16173565,  0.98010105, -0.11508136],\n",
       "        [-0.764011  , -0.05055124,  0.6432198 ],\n",
       "        [-0.6246028 , -0.19195503, -0.7569839 ]], dtype=float32)>,\n",
       " <tf.Variable 'bias:0' shape=(3,) dtype=float32, numpy=array([0., 0., 0.], dtype=float32)>]"
      ]
     },
     "execution_count": 12,
     "metadata": {},
     "output_type": "execute_result"
    }
   ],
   "source": [
    "cell = layers.SimpleRNNCell(3)\n",
    "# 输出特征长度为4\n",
    "cell.build(input_shape=(None, 4))\n",
    "cell.trainable_variables"
   ]
  },
  {
   "cell_type": "code",
   "execution_count": 13,
   "metadata": {},
   "outputs": [
    {
     "name": "stdout",
     "output_type": "stream",
     "text": [
      "x_to的维度为：(4, 100)\n",
      "(4, 64) (4, 64)\n"
     ]
    }
   ],
   "source": [
    "# 4个句子，每个句子80个单词，每个单词用100维向量表示\n",
    "x = tf.random.normal([4, 80, 100])\n",
    "# to时刻，取4个句子中的第一个单词,x_to:[4, 100]\n",
    "x_t0 = x[:,0,:]\n",
    "print(f'x_to的维度为：{x_t0.shape}')\n",
    "cell = layers.SimpleRNNCell(64)\n",
    "\n",
    "# 注意初始的 h_t0 为一个列表\n",
    "h_t0 = [tf.zeros([4, 64])]\n",
    "out, h_t1 = cell(x_t0, h_t0)\n",
    "print(out.shape, h_t1[0].shape)"
   ]
  },
  {
   "cell_type": "code",
   "execution_count": null,
   "metadata": {},
   "outputs": [],
   "source": [
    "# 利用 cell 构建多层 RNN\n",
    "x = tf.random.normal([4,80,100])\n",
    "xt = x[:,0,:] # 取第一个时间戳的输入x0\n",
    "# 构建2个Cell,先cell0,后cell1\n",
    "cell0 = layers.SimpleRNNCell(64)\n",
    "cell1 = layers.SimpleRNNCell(64)\n",
    "h0 = [tf.zeros([4,64])] # cell0的初始状态向量\n",
    "h1 = [tf.zeros([4,64])] # cell1的初始状态向量\n",
    "\n",
    "for xt in tf.unstack(x, axis=1):\n",
    "    out0, h0 = cell0(xt, h0)\n",
    "    out1, h1 = cell1(out0, h1)\n"
   ]
  },
  {
   "attachments": {},
   "cell_type": "markdown",
   "metadata": {},
   "source": [
    "SimpleRNN "
   ]
  },
  {
   "cell_type": "code",
   "execution_count": 20,
   "metadata": {},
   "outputs": [
    {
     "name": "stdout",
     "output_type": "stream",
     "text": [
      "(4, 80, 64)\n"
     ]
    }
   ],
   "source": [
    "# 状态向量的长度为 64\n",
    "layer1 = layers.SimpleRNN(64, return_sequences=True)\n",
    "x = tf.random.normal([4, 80, 100])\n",
    "# 默认返回最后一个时间戳上的输出\n",
    "out = layer1(x)\n",
    "\n",
    "print(out.shape)"
   ]
  },
  {
   "cell_type": "code",
   "execution_count": 22,
   "metadata": {},
   "outputs": [],
   "source": [
    "net = keras.Sequential([\n",
    "    # 除最后一层外，其他层都需要返回所有时间戳的输出，用作下一次的输出\n",
    "    layers.SimpleRNN(64, return_sequences=True),\n",
    "    layers.SimpleRNN(64)\n",
    "])\n",
    "out = net(x)"
   ]
  }
 ],
 "metadata": {
  "kernelspec": {
   "display_name": "Python 3",
   "language": "python",
   "name": "python3"
  },
  "language_info": {
   "codemirror_mode": {
    "name": "ipython",
    "version": 3
   },
   "file_extension": ".py",
   "mimetype": "text/x-python",
   "name": "python",
   "nbconvert_exporter": "python",
   "pygments_lexer": "ipython3",
   "version": "3.8.15"
  },
  "orig_nbformat": 4
 },
 "nbformat": 4,
 "nbformat_minor": 2
}
