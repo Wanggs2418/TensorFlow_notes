{
 "cells": [
  {
   "cell_type": "code",
   "execution_count": 1,
   "metadata": {},
   "outputs": [],
   "source": [
    "import tensorflow as tf\n",
    "from tensorflow import keras\n",
    "# 引用经典数据集时的 datasets，适用容器 Sequential, 网络层的父类 layers，网络的父类 Model,优化器 optimizers\n",
    "# 损失类 loss\n",
    "from tensorflow.keras import datasets,layers,optimizers, Model, losses\n",
    "import matplotlib.pyplot as plt\n",
    "import numpy as np\n",
    "from PIL import Image"
   ]
  },
  {
   "cell_type": "code",
   "execution_count": 2,
   "metadata": {},
   "outputs": [
    {
     "data": {
      "text/plain": [
       "<tf.Tensor: shape=(3,), dtype=int32, numpy=array([1, 4, 3])>"
      ]
     },
     "execution_count": 2,
     "metadata": {},
     "output_type": "execute_result"
    }
   ],
   "source": [
    "a = np.array([[-1, 3, 9],[3, 5, -3]])\n",
    "b = tf.reduce_mean(a, axis=0)\n",
    "b"
   ]
  },
  {
   "cell_type": "code",
   "execution_count": 3,
   "metadata": {},
   "outputs": [],
   "source": [
    "batchsz = 512\n",
    "shuffles = 10000\n",
    "lr = 1e-3\n",
    "z_dim = 10\n",
    "epochs = 20"
   ]
  },
  {
   "cell_type": "code",
   "execution_count": 4,
   "metadata": {},
   "outputs": [],
   "source": [
    "# 将多张图片合并并保存为一张大图\n",
    "def save_images(imgs, name):\n",
    "    \n",
    "    new_im = Image.new('L', (280, 280))\n",
    "    index = 0\n",
    "    for i in range(0, 280, 28):\n",
    "        for j in range(0, 280, 28):\n",
    "            im = imgs[index]\n",
    "            im = Image.fromarray(im, mode='L')\n",
    "            new_im.paste(im, (i, j))\n",
    "            index += 1\n",
    "    new_im.save(name)"
   ]
  },
  {
   "cell_type": "code",
   "execution_count": 5,
   "metadata": {},
   "outputs": [],
   "source": [
    "#以图片数据为例，适用于全连接层\n",
    "def preprocess(x):\n",
    "    \"\"\"\n",
    "    自定义预处理函数\n",
    "    参数：\n",
    "    x -- 待处理的数据集,维度[b,28,28]\n",
    "    y -- 待处理的数据集,[b]\n",
    "\n",
    "    返回值：\n",
    "    x -- 标准化和扁平化后的 x\n",
    "    y -- 转换为 one_hot 向量\n",
    "    \"\"\"\n",
    "    x = tf.cast(x, dtype=tf.float32) / 255. #标准化0-1\n",
    "    #扁平化-不建议，后续需要用 squeeze函数处理。者此处不设，而在输入的时候对x设置x.reshape(x,(-1, 28*28))\n",
    "    #  注意与 [-1, 28*28]的区别\n",
    "    x = tf.reshape(x, [28*28])\n",
    "\n",
    "\n",
    "    return x"
   ]
  },
  {
   "cell_type": "code",
   "execution_count": 6,
   "metadata": {},
   "outputs": [
    {
     "name": "stdout",
     "output_type": "stream",
     "text": [
      "数据集fabshionmnist中x的维度 (60000, 28, 28) 数据集fashionmnist中y的维度 (60000,)\n",
      "<BatchDataset shapes: (None, 784), types: tf.float32> <BatchDataset shapes: (None, 784), types: tf.float32>\n"
     ]
    }
   ],
   "source": [
    "(x,y), (x_test, y_test)=datasets.fashion_mnist.load_data()\n",
    "print('数据集fabshionmnist中x的维度', x.shape, '数据集fashionmnist中y的维度', y.shape)\n",
    "#数据加载后，需要转换为 Dataset对象\n",
    "train_db = tf.data.Dataset.from_tensor_slices(x)\n",
    "test_db = tf.data.Dataset.from_tensor_slices(x_test)\n",
    "\n",
    "# db = db.step1().step2().step3()\n",
    "# shuffle(缓冲区大小，一般是一个较大的常数)，btach(一批的样本数量)\n",
    "train_db = train_db.map(preprocess).shuffle(shuffles).batch(batchsz)\n",
    "test_db = test_db.map(preprocess).batch(batchsz)\n",
    "print(train_db, test_db)"
   ]
  },
  {
   "attachments": {},
   "cell_type": "markdown",
   "metadata": {},
   "source": [
    "### VAE(变分编码器的实现)\n",
    "\n",
    "<img src=\"img/02.jpg\"/>"
   ]
  },
  {
   "attachments": {},
   "cell_type": "markdown",
   "metadata": {},
   "source": [
    "首先通过编码器获得隐变量 z 的分布，而后利用 Reparameterization Trick 进行采样获得 z"
   ]
  },
  {
   "cell_type": "code",
   "execution_count": 7,
   "metadata": {},
   "outputs": [],
   "source": [
    "class VAE(Model):\n",
    "    def __init__(self):\n",
    "        super(VAE, self).__init__()\n",
    "        # Encoder\n",
    "        self.fc1 = layers.Dense(128, activation='relu')\n",
    "        self.fc2 = layers.Dense(z_dim)\n",
    "        self.fc3 = layers.Dense(z_dim)\n",
    "\n",
    "        # Decoder\n",
    "        self.fc4 = layers.Dense(128, activation='relu')\n",
    "        self.fc5 = layers.Dense(28*28)\n",
    "\n",
    "    def encoder(self, x):\n",
    "        h = self.fc1(x)\n",
    "        mean = self.fc2(h)\n",
    "        log_var = self.fc3(h)\n",
    "        return mean, log_var\n",
    "    \n",
    "    def decoder(self, z):\n",
    "        out = self.fc4(z)\n",
    "        out = self.fc5(out)\n",
    "        return out\n",
    "\n",
    "    def reparameterization(self, mu, log_var):\n",
    "        # eps 采样自正态分布\n",
    "        eps = tf.random.normal(log_var.shape)\n",
    "        # 标准差为方差开方 \n",
    "        std = tf.exp(0.5*log_var)\n",
    "        # 重采样的 z\n",
    "        z = mu + std * eps\n",
    "        return z\n",
    "    \n",
    "    # 前向传播\n",
    "    def call(self, inputs, training=None):\n",
    "        mu, log_var = self.encoder(inputs)\n",
    "        z = self.reparameterization(mu, log_var)\n",
    "        # 重建值 x_bar\n",
    "        x_bar = self.decoder(z)\n",
    "        return x_bar, mu, log_var"
   ]
  },
  {
   "cell_type": "code",
   "execution_count": 8,
   "metadata": {},
   "outputs": [
    {
     "name": "stdout",
     "output_type": "stream",
     "text": [
      "Model: \"vae\"\n",
      "_________________________________________________________________\n",
      "Layer (type)                 Output Shape              Param #   \n",
      "=================================================================\n",
      "dense (Dense)                multiple                  100480    \n",
      "_________________________________________________________________\n",
      "dense_1 (Dense)              multiple                  1290      \n",
      "_________________________________________________________________\n",
      "dense_2 (Dense)              multiple                  1290      \n",
      "_________________________________________________________________\n",
      "dense_3 (Dense)              multiple                  1408      \n",
      "_________________________________________________________________\n",
      "dense_4 (Dense)              multiple                  101136    \n",
      "=================================================================\n",
      "Total params: 205,604\n",
      "Trainable params: 205,604\n",
      "Non-trainable params: 0\n",
      "_________________________________________________________________\n"
     ]
    }
   ],
   "source": [
    "model = VAE()\n",
    "model.build(input_shape=(4, 784))\n",
    "model.summary()"
   ]
  },
  {
   "cell_type": "code",
   "execution_count": null,
   "metadata": {},
   "outputs": [],
   "source": [
    "# 网络训练\n",
    "optimizer = optimizers.Adam(learning_rate=lr)\n",
    "for epoch in range(epochs):\n",
    "    for step, x in enumerate(train_db):\n",
    "        with tf.GradientTape() as tape:\n",
    "            logits, mu, log_var = model(x)\n",
    "\n",
    "            # loss = losses.binary_crossentropy(x, logits, from_logits=True)\n",
    "            # loss = tf.reduce_mean(loss)\n",
    "\n",
    "            # 仅仅对axis=0，行进行平均,损失值更大，可能使得收敛更快\n",
    "            loss = tf.nn.sigmoid_cross_entropy_with_logits(labels=x, logits=logits) \n",
    "            loss = tf.reduce_sum(loss) / x.shape[0]\n",
    "\n",
    "            # KL(p,q), p-N(mu, var); q-N(0, 1);\n",
    "            kl_div = -0.5 * (log_var + 1 - mu**2 - tf.exp(log_var))\n",
    "            kl_div = tf.reduce_sum(kl_div) / x.shape[0]\n",
    "\n",
    "            losses = loss + 1. * kl_div\n",
    "\n",
    "        grads = tape.gradient(losses, model.trainable_variables)\n",
    "        optimizer.apply_gradients(zip(grads, model.trainable_variables))\n",
    "\n",
    "        if step % 100 == 0:\n",
    "            print(epoch, step, 'kl:', float(kl_div), 'loss', float(loss))\n",
    "    \n",
    "    # 测试\n",
    "    z = tf.random.normal((batchsz, z_dim))\n",
    "    z_logits= model.decoder(z)\n",
    "    x_bar = tf.sigmoid(z_logits)\n",
    "    x_bar = tf.reshape(x_bar, [-1, 28, 28]).numpy() * 255.\n",
    "    x_bar = x_bar.astype(np.uint8)\n",
    "\n",
    "    save_images(x_bar, 'vae_img/sampled_epoch%d.png'%epoch)\n",
    "\n",
    "    x = next(iter(test_db))\n",
    "    x_bar_logits, _, _ = model(x) \n",
    "    x_bar = tf.sigmoid(x_bar_logits)\n",
    "    x_bar = tf.reshape(x_bar, [-1, 28, 28]).numpy() * 255.\n",
    "    x_bar = x_bar.astype(np.uint8)\n",
    "    \n",
    "    save_images(x_bar, 'vae_img/rec_epoch%d.png'%epoch)"
   ]
  }
 ],
 "metadata": {
  "kernelspec": {
   "display_name": "Python 3",
   "language": "python",
   "name": "python3"
  },
  "language_info": {
   "codemirror_mode": {
    "name": "ipython",
    "version": 3
   },
   "file_extension": ".py",
   "mimetype": "text/x-python",
   "name": "python",
   "nbconvert_exporter": "python",
   "pygments_lexer": "ipython3",
   "version": "3.8.15"
  },
  "orig_nbformat": 4
 },
 "nbformat": 4,
 "nbformat_minor": 2
}
