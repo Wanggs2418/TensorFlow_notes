{
 "cells": [
  {
   "cell_type": "code",
   "execution_count": 1,
   "metadata": {},
   "outputs": [],
   "source": [
    "import tensorflow as tf\n",
    "from tensorflow import keras\n",
    "from tensorflow.keras import layers, datasets, Model, Sequential, optimizers, losses\n",
    "import numpy as np\n",
    "from  PIL import Image"
   ]
  },
  {
   "attachments": {},
   "cell_type": "markdown",
   "metadata": {},
   "source": [
    "### Fashion MNIST 实践练习"
   ]
  },
  {
   "cell_type": "code",
   "execution_count": 2,
   "metadata": {},
   "outputs": [],
   "source": [
    "batchsz = 128\n",
    "shuffles = 10000\n",
    "lr = 1e-3\n",
    "h_dim = 20\n",
    "epochs = 100"
   ]
  },
  {
   "cell_type": "code",
   "execution_count": 3,
   "metadata": {},
   "outputs": [],
   "source": [
    "# 将多张图片合并并保存为一张大图\n",
    "def save_images(imgs, name):\n",
    "    \n",
    "    new_im = Image.new('L', (280, 280))\n",
    "    index = 0\n",
    "    for i in range(0, 280, 28):\n",
    "        for j in range(0, 280, 28):\n",
    "            im = imgs[index]\n",
    "            im = Image.fromarray(im, mode='L')\n",
    "            new_im.paste(im, (i, j))\n",
    "            index += 1\n",
    "    new_im.save(name)"
   ]
  },
  {
   "cell_type": "code",
   "execution_count": 4,
   "metadata": {},
   "outputs": [],
   "source": [
    "#以图片数据为例，适用于全连接层\n",
    "def preprocess(x):\n",
    "    \"\"\"\n",
    "    自定义预处理函数\n",
    "    参数：\n",
    "    x -- 待处理的数据集,维度[b,28,28]\n",
    "    y -- 待处理的数据集,[b]\n",
    "\n",
    "    返回值：\n",
    "    x -- 标准化和扁平化后的 x\n",
    "    y -- 转换为 one_hot 向量\n",
    "    \"\"\"\n",
    "    x = tf.cast(x, dtype=tf.float32) / 255. #标准化0-1\n",
    "    #扁平化-不建议，后续需要用 squeeze函数处理。者此处不设，而在输入的时候对x设置x.reshape(x,(-1, 28*28))\n",
    "    #  注意与 [-1, 28*28]的区别\n",
    "    x = tf.reshape(x, [28*28])\n",
    "\n",
    "\n",
    "    return x"
   ]
  },
  {
   "attachments": {},
   "cell_type": "markdown",
   "metadata": {},
   "source": [
    "自编码器：\n",
    "\n",
    "<img src=\"img/01.jpg\"/>"
   ]
  },
  {
   "attachments": {},
   "cell_type": "markdown",
   "metadata": {},
   "source": [
    "- 编码器：3 层全连接层网络，输出节点为 256、128、20，\n",
    "- 解码器：3 层全连接网络，，输出节点为 128、256、784"
   ]
  },
  {
   "cell_type": "code",
   "execution_count": 5,
   "metadata": {},
   "outputs": [
    {
     "name": "stdout",
     "output_type": "stream",
     "text": [
      "数据集fabshionmnist中x的维度 (60000, 28, 28) 数据集fashionmnist中y的维度 (60000,)\n",
      "<BatchDataset shapes: (None, 784), types: tf.float32> <BatchDataset shapes: (None, 784), types: tf.float32>\n"
     ]
    }
   ],
   "source": [
    "(x,y), (x_test, y_test)=datasets.fashion_mnist.load_data()\n",
    "print('数据集fabshionmnist中x的维度', x.shape, '数据集fashionmnist中y的维度', y.shape)\n",
    "#数据加载后，需要转换为 Dataset对象\n",
    "train_db = tf.data.Dataset.from_tensor_slices(x)\n",
    "test_db = tf.data.Dataset.from_tensor_slices(x_test)\n",
    "\n",
    "# db = db.step1().step2().step3()\n",
    "# shuffle(缓冲区大小，一般是一个较大的常数)，btach(一批的样本数量)\n",
    "train_db = train_db.map(preprocess).shuffle(shuffles).batch(batchsz)\n",
    "test_db = test_db.map(preprocess).batch(batchsz)\n",
    "print(train_db, test_db)"
   ]
  },
  {
   "cell_type": "code",
   "execution_count": 6,
   "metadata": {},
   "outputs": [],
   "source": [
    "# 编码器\n",
    "class autoCode(Model):\n",
    "    def __init__(self):\n",
    "        super(autoCode, self).__init__()\n",
    "        # 创建 Encoders 网络\n",
    "        self.encoder = Sequential([\n",
    "            layers.Dense(256, activation=tf.nn.relu),\n",
    "            layers.Dense(128, activation=tf.nn.relu),\n",
    "            layers.Dense(h_dim)\n",
    "        ])\n",
    "        # 创建 Decoders 网络\n",
    "        self.decoder = Sequential([\n",
    "            layers.Dense(128, activation='relu'),\n",
    "            layers.Dense(256, activation='relu'),\n",
    "            layers.Dense(784, activation='relu')\n",
    "        ])\n",
    "    # 在 call 函数中实现前向传播过程\n",
    "    def call(self, inputs, training=None):\n",
    "        # 编码过程\n",
    "        # [b, 28*28]=>[b, 20],获得隐藏向量 h\n",
    "        h = self.encoder(inputs)\n",
    "        # 重构图片：[b, 20]=>[b, 784(28*28)]\n",
    "        x_bar = self.decoder(h)\n",
    "        return x_bar"
   ]
  },
  {
   "attachments": {},
   "cell_type": "markdown",
   "metadata": {},
   "source": [
    "网络训练"
   ]
  },
  {
   "cell_type": "code",
   "execution_count": 7,
   "metadata": {},
   "outputs": [
    {
     "name": "stdout",
     "output_type": "stream",
     "text": [
      "Model: \"auto_code\"\n",
      "_________________________________________________________________\n",
      "Layer (type)                 Output Shape              Param #   \n",
      "=================================================================\n",
      "sequential (Sequential)      (4, 20)                   236436    \n",
      "_________________________________________________________________\n",
      "sequential_1 (Sequential)    (4, 784)                  237200    \n",
      "=================================================================\n",
      "Total params: 473,636\n",
      "Trainable params: 473,636\n",
      "Non-trainable params: 0\n",
      "_________________________________________________________________\n"
     ]
    }
   ],
   "source": [
    "optimizer = optimizers.Adam(learning_rate=lr)\n",
    "model = autoCode()\n",
    "model.build(input_shape=[4, 784])\n",
    "# 参数量\n",
    "# Encoder:236 436\n",
    "# Decoder:237 200\n",
    "model.summary()"
   ]
  },
  {
   "cell_type": "code",
   "execution_count": null,
   "metadata": {},
   "outputs": [],
   "source": [
    "for epoch in range(epochs):\n",
    "    for step, x in enumerate(train_db):\n",
    "        with tf.GradientTape() as tape:\n",
    "            logits = model(x)\n",
    "\n",
    "            loss = losses.binary_crossentropy(x, logits, from_logits=True)\n",
    "            loss = tf.reduce_mean(loss)\n",
    "\n",
    "        grads = tape.gradient(loss, model.trainable_variables)\n",
    "        optimizer.apply_gradients(zip(grads, model.trainable_variables))\n",
    "\n",
    "        if epoch % 10 ==0 and step % 100 == 0:\n",
    "            print(epoch, step, float(loss))\n",
    "\n",
    "        # evaluation\n",
    "        x = next(iter(test_db))\n",
    "        x_rel = tf.reshape(x, [-1, 28, 28])\n",
    "        # print(x.shape)\n",
    "        logits = model(x)\n",
    "        x_bar = tf.sigmoid(logits)\n",
    "        # [b, 28*28]=>[b, 28, 28]\n",
    "        x_bar = tf.reshape(x_bar, [-1, 28, 28])\n",
    "\n",
    "        # [b, 28, 28]=>[2b, 28, 28]\n",
    "        x_concat = tf.concat([x_rel[:50], x_bar[:50]], axis=0)\n",
    "        # x_concat = x_bar\n",
    "        x_concat = x_concat.numpy() * 255.\n",
    "        x_concat = x_concat.astype(np.uint8)\n",
    "        save_images(x_concat, 'autoCode/epoch_%d.png'%epoch)"
   ]
  },
  {
   "cell_type": "code",
   "execution_count": null,
   "metadata": {},
   "outputs": [],
   "source": [
    "model = autoCode()\n",
    "model.compile(optimizer=optimizer, loss=losses.categorical_crossentropy, metrics=['accuracy'])\n",
    "history = model.fit(train_db, epochs=epochs, validation_data=test_db)\n",
    "model.evaluate(test_db)"
   ]
  }
 ],
 "metadata": {
  "kernelspec": {
   "display_name": "Python 3",
   "language": "python",
   "name": "python3"
  },
  "language_info": {
   "codemirror_mode": {
    "name": "ipython",
    "version": 3
   },
   "file_extension": ".py",
   "mimetype": "text/x-python",
   "name": "python",
   "nbconvert_exporter": "python",
   "pygments_lexer": "ipython3",
   "version": "3.8.15"
  },
  "orig_nbformat": 4
 },
 "nbformat": 4,
 "nbformat_minor": 2
}
