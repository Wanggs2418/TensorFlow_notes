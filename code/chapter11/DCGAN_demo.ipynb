{
 "cells": [
  {
   "cell_type": "code",
   "execution_count": 1,
   "metadata": {},
   "outputs": [],
   "source": [
    "import  tensorflow as tf\n",
    "from    tensorflow import keras\n",
    "from    tensorflow.keras import layers, Model\n",
    "from dataset import make_anime_dataset\n",
    "import glob\n",
    "import numpy as np"
   ]
  },
  {
   "attachments": {},
   "cell_type": "markdown",
   "metadata": {},
   "source": [
    "此处利用直接编写好的 `make_anime_dataset` 函数"
   ]
  },
  {
   "cell_type": "code",
   "execution_count": 2,
   "metadata": {},
   "outputs": [],
   "source": [
    "batch_size = 64\n",
    "z_dim = 100\n",
    "epochs = 100\n",
    "lr = 1e3\n",
    "is_training = True"
   ]
  },
  {
   "cell_type": "code",
   "execution_count": 3,
   "metadata": {},
   "outputs": [],
   "source": [
    "# 设置本地数据集路径\n",
    "img_path = glob.glob(r'E:\\GAN_training_datasets\\archive\\data\\*.png')\n",
    "dataset, img_shape, _ = make_anime_dataset(img_path, batch_size, resize=64)"
   ]
  },
  {
   "attachments": {},
   "cell_type": "markdown",
   "metadata": {},
   "source": [
    "由 5 个转置卷积层组成，实现特征图高宽的放大，特征图通道层层减少。\n",
    "\n",
    "- 将长度为 100 的隐藏变量 $z$ 变换为 [b, 1, 1, 100]\n",
    "- 依次通过转置卷积层，放大高宽维度，减少通道维度，最后高宽为 64×64，通道为 3\n",
    "- 每个卷积层中插入 BN 层提高训练稳定性，卷积层选择不使用偏置向量"
   ]
  },
  {
   "attachments": {},
   "cell_type": "markdown",
   "metadata": {},
   "source": [
    "<img src=\"img/01.jpg\"/>"
   ]
  },
  {
   "cell_type": "code",
   "execution_count": null,
   "metadata": {},
   "outputs": [],
   "source": [
    "# 生成器网络类\n",
    "class Generator(keras.Model):\n",
    "    # [b, 100] => [b, 64, 64, 3]\n",
    "    \n",
    "    def __init__(self):\n",
    "        super(Generator, self).__init__()\n",
    "        filter = 64\n",
    "        # 输出 channel 为 filter*8,核大小为4， 步长为1，不使用padding和偏置\n",
    "        self.conv1 = layers.Conv2DTranspose(filter*8, 4, 1, 'valid', use_bias=False)\n",
    "        self.bn1 = layers.BatchNormalization()\n",
    "\n",
    "        self.conv1 = layers.Conv2DTranspose(filter*4, 4, 2, 'same', use_bias=False)\n",
    "        self.bn2 = layers.BatchNormalization()\n",
    "        # 转置卷积层3\n",
    "        self.conv3 = layers.Conv2DTranspose(filter*2, 4,2, 'same', use_bias=False)\n",
    "        self.bn3 = layers.BatchNormalization()\n",
    "        # 转置卷积层4\n",
    "        self.conv4 = layers.Conv2DTranspose(filter*1, 4,2, 'same', use_bias=False)\n",
    "        self.bn4 = layers.BatchNormalization()\n",
    "        # 转置卷积层5\n",
    "        self.conv5 = layers.Conv2DTranspose(3, 4,2, 'same', use_bias=False)\n",
    "    # \n",
    "    def call(self, inputs, training = None):\n",
    "        # [z, 100]\n",
    "        x = inputs\n",
    "        # [b, 1, 1, 100]\n",
    "        x = tf.reshape(x, (x.shape[0], 1, 1, x.shape[1]))\n",
    "        # 激活函数\n",
    "        x = tf.nn.relu(x)\n",
    "        \n",
    "        "
   ]
  },
  {
   "cell_type": "code",
   "execution_count": null,
   "metadata": {},
   "outputs": [],
   "source": [
    "# 分类器，普通意义上的分类网络\n",
    "class Discriminator(Model):\n",
    "    def __init__(self):\n",
    "        super(Discriminator, self).__init__()\n",
    "        filter = 64\n",
    "        # [b, 64, 64, 3]=>[b, 1]\n",
    "        # filter:64, kernek:5, stride:3\n",
    "        self.conv1 = layers.Conv2D(filter, 4, 2, 'valid', use_bias=False)\n",
    "        self.bn1 = layers.BatchNormalization()\n",
    "        # 使得GAN training 更加稳定\n",
    "        self.conv2 = layers.Conv2D(filter*2, 4, 2, 'valid', use_bias=False)\n",
    "        self.bn2 = layers.BatchNormalization()\n",
    "\n",
    "        self.conv3 = layers.Conv2D(filter*4, 4, 2, 'valid', use_bias=False)\n",
    "        self.bn3 = layers.BatchNormalization()\n",
    "\n",
    "        self.conv4 = layers.Conv2D(filter*8, 3, 1, 'valid', use_bias=False)\n",
    "        self.bn4 = layers.BatchNormalization()\n",
    "        \n",
    "        self.conv5 = layers.Conv2D(filter*16, 3, 1, 'valid', use_bias=False)\n",
    "        self.bn5 = layers.BatchNormalization()\n",
    "\n",
    "        # 全局池化层\n",
    "        self.pool = layers.GlobalAveragePooling2D()\n",
    "        # 特征打平\n",
    "        self._flatten = layers.Flatten()\n",
    "        # 全连接层分类\n",
    "        self.fc = layers.Dense(1)\n",
    "\n",
    "    \n",
    "    def call(self, inputs, training=None):\n",
    "        # (4, 31, 31, 64)\n",
    "        x = tf.nn.leaky_relu(self.bn1(self.conv1(inputs), training=training))\n",
    "        # (4, 14, 14, 128)\n",
    "        x = tf.nn.leaky_relu(self.bn2(self.conv2(x), training=training))\n",
    "        # (4, 6, 6, 256)\n",
    "        x = tf.nn.leaky_relu(self.bn3(self.conv3(x), training=training))\n",
    "        # (4, 4, 4, 512)\n",
    "        x = tf.nn.leaky_relu(self.bn4(self.conv4(x), training=training))\n",
    "        # 卷积-BN-激活函数:(4, 2, 2, 1024)\n",
    "        x = tf.nn.leaky_relu(self.bn5(self.conv5(x), training=training))\n",
    "        # 卷积-BN-激活函数:(4, 1024)\n",
    "        x = self.pool(x)\n",
    "        # 打平\n",
    "        x = self.flatten(x)\n",
    "        # 输出，[b, 1024] => [b, 1]\n",
    "        logits = self.fc(x)\n",
    "\n",
    "        return logits\n",
    "\n",
    "\n",
    "        \n",
    "\n"
   ]
  }
 ],
 "metadata": {
  "kernelspec": {
   "display_name": "Python 3",
   "language": "python",
   "name": "python3"
  },
  "language_info": {
   "codemirror_mode": {
    "name": "ipython",
    "version": 3
   },
   "file_extension": ".py",
   "mimetype": "text/x-python",
   "name": "python",
   "nbconvert_exporter": "python",
   "pygments_lexer": "ipython3",
   "version": "3.8.15"
  },
  "orig_nbformat": 4
 },
 "nbformat": 4,
 "nbformat_minor": 2
}
