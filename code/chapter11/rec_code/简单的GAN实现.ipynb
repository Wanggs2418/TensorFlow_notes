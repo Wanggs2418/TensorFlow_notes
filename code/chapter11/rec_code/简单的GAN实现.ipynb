{
 "cells": [
  {
   "cell_type": "code",
   "execution_count": 15,
   "metadata": {},
   "outputs": [],
   "source": [
    "import numpy as np\n",
    "from scipy.stats import norm\n",
    "import tensorflow.compat.v1 as tf\n",
    "import matplotlib.pyplot as plt\n",
    "tf.disable_v2_behavior()"
   ]
  },
  {
   "attachments": {},
   "cell_type": "markdown",
   "metadata": {},
   "source": [
    "设置真实数据样本分布，均值为3，方差为0.5"
   ]
  },
  {
   "cell_type": "code",
   "execution_count": 16,
   "metadata": {},
   "outputs": [],
   "source": [
    "class DataDistribution(object):\n",
    "    def __init__(self) -> None:\n",
    "        self.mu = 3\n",
    "        self.sigma = 0.5\n",
    "    def sample(self, N):\n",
    "        samples = np.random.normal(self.mu, self.sigma, N)\n",
    "        samples.sort()\n",
    "        return samples"
   ]
  },
  {
   "attachments": {},
   "cell_type": "markdown",
   "metadata": {},
   "source": [
    "设定生成器的初始分布"
   ]
  },
  {
   "cell_type": "code",
   "execution_count": 17,
   "metadata": {},
   "outputs": [],
   "source": [
    "# 设定的为平均分布\n",
    "class GeneratorDistribution(object):\n",
    "    def __init__(self) -> None:\n",
    "        self.range = range\n",
    "    def sample(self, N):\n",
    "        return np.linspace(-self.range, self.range, N) + np.random.random(N) * 0.01"
   ]
  },
  {
   "attachments": {},
   "cell_type": "markdown",
   "metadata": {},
   "source": [
    "设置一个简单的线性运算含函数"
   ]
  },
  {
   "cell_type": "code",
   "execution_count": 18,
   "metadata": {},
   "outputs": [],
   "source": [
    "def linear(input, output_dim, scope=None, stddev=1.0):\n",
    "    norm = tf.random_normal_initializer(stddev=stddev)\n",
    "    const = tf.constant_initializer(0.0)\n",
    "    with tf.variable_scope(scope or 'linear'):\n",
    "        w = tf.get_variable('w', [input.get_shape()[1], output_dim], initializer=norm)\n",
    "        b = tf.get_variable('b', [output_dim], initializer=const)\n",
    "        return tf.matmul(input, w) + b"
   ]
  },
  {
   "attachments": {},
   "cell_type": "markdown",
   "metadata": {},
   "source": [
    "实现简单的生成器和判别器"
   ]
  },
  {
   "cell_type": "code",
   "execution_count": 19,
   "metadata": {},
   "outputs": [],
   "source": [
    "def generator(input, h_dim):\n",
    "    h0 = tf.nn.softplus(linear(input, h_dim, 'g0'))\n",
    "    h1 = linear(h0, 1, 'g1')\n",
    "    return h1"
   ]
  },
  {
   "cell_type": "code",
   "execution_count": 20,
   "metadata": {},
   "outputs": [],
   "source": [
    "def discriminator(input, h_dim):\n",
    "    h0 = tf.tanh(linear(input, h_dim * 2, 'd0'))\n",
    "    h1 = tf.tanh(linear(h0, h_dim * 2, 'd1'))\n",
    "    h2 = tf.tanh(linear(h1, h_dim * 2, 'd2'))\n",
    "    h3 = tf.tanh(linear(h2, 1, 'd3'))\n",
    "    return h3"
   ]
  },
  {
   "attachments": {},
   "cell_type": "markdown",
   "metadata": {},
   "source": [
    "设置优化器，选择使得学习率衰减的梯度下降方法"
   ]
  },
  {
   "cell_type": "code",
   "execution_count": 21,
   "metadata": {},
   "outputs": [],
   "source": [
    "def optimizer(loss, var_list, initial_learing_rate):\n",
    "    decay = 0.95\n",
    "    num_decay_steps = 150\n",
    "    batch = tf.Variable(0)\n",
    "    learning_rate = tf.train.exponential_decay(\n",
    "        initial_learing_rate,\n",
    "        batch,\n",
    "        num_decay_steps,\n",
    "        decay,\n",
    "        staircase=True\n",
    "    )\n",
    "    optimizer = tf.train.GradientDescentOptimizer(learning_rate).minimize(\n",
    "        loss,\n",
    "        global_step=batch,\n",
    "        var_list=var_list\n",
    "    )\n",
    "    return optimizer"
   ]
  },
  {
   "attachments": {},
   "cell_type": "markdown",
   "metadata": {},
   "source": [
    "搭建 GAN 模型类的代码\n",
    "\n",
    "除了初始化参数外，最核心的两个函数是模型的创建和模型的训练"
   ]
  },
  {
   "cell_type": "code",
   "execution_count": 22,
   "metadata": {},
   "outputs": [],
   "source": [
    "class GAN(object):\n",
    "    def __init__(self, data, gen, num_steps, batch_size, log_every):\n",
    "        self.data = data\n",
    "        self.gen = gen\n",
    "        self.num_steps = num_steps\n",
    "        self.batch_size = batch_size\n",
    "        self.log_every = log_every\n",
    "        self.mlp_hidden_size = 4\n",
    "        self.learning_rate = 0.03\n",
    "        self._create_model()\n",
    "    \n",
    "    def _create_model(self):\n",
    "        \"\"\"\n",
    "        创建模型\n",
    "        预训练判别器:D_pre\n",
    "        生成器:Generator\n",
    "        判别器:Discriminator\n",
    "        生成器损失函数:loss_g\n",
    "        判别器损失函数:loss_d\n",
    "        生成器优化器:opt_g\n",
    "        判别器优化器:opt_d\n",
    "        真实数据的判别:D1\n",
    "        生成数据的判别:D2\n",
    "        \"\"\"\n",
    "        with tf.variable_scope('D_pre'):\n",
    "            self.pre_input = tf.placeholder(tf.float32, shape=(self.batch_size, 1))\n",
    "            self.pre_labels = tf.placeholder(tf.float32, shape=(self.batch_size, 1))\n",
    "            D_pre = discriminator(self.pre_input, self.mlp_hidden_size)\n",
    "            self.pre_loss = tf.reduce_mean(tf.square(D_pre - self.pre_labels))\n",
    "            self.pre_opt = optimizer(self.pre_loss, None, self.learning_rate)\n",
    "        with tf.variable_scope('Generator'):\n",
    "            self.z = tf.placeholder(tf.float32, shape=(self.batch_size, 1))\n",
    "            self.G = generator(self.z, self.mlp_hidden_size)\n",
    "        with tf.variable_scope('Discriminator') as scope:\n",
    "            self.x = tf.placeholder(tf.float32, shape=(self.batch_size, 1))\n",
    "            self.D1 = discriminator(self.x, self.mlp_hidden_size)\n",
    "            scope.reuse_variables()\n",
    "            self.D2 = discriminator(self.G, self.mlp_hidden_size)\n",
    "        \n",
    "        self.loss_d = tf.reduce_mean(-tf.log(self.D1) - tf.log(1 - self.D2))\n",
    "        self.loss_g = tf.reduce_mean(-tf.log(self.D2))\n",
    "\n",
    "        self.d_pre_params = tf.get_collection(tf.GraphKeys.TRAINABLE_VARIABLES, scope='D_pre')\n",
    "        self.d_params = tf.get_collection(tf.GraphKeys.TRAINABLE_VARIABLES, scope='Discriminator')\n",
    "        self.g_params = tf.get_collection(tf.GraphKeys.TRAINABLE_VARIABLES, scope='Generator')\n",
    "\n",
    "        self.opt_d = optimizer(self.loss_d, self.d_params, self.learning_rate)\n",
    "        self.opt_g = optimizer(self.loss_g, self.g_params, self.learning_rate)\n",
    "    def train(self):\n",
    "        \"\"\"\n",
    "        训练模型：\n",
    "        预先训练判别器D_pre,然后将训练后的参数共享给判别器Discriminator\n",
    "        然后正式训练生成器Generator和判别器Discriminator\n",
    "        \"\"\"\n",
    "        with tf.Session() as session:\n",
    "            tf.global_variables_initializer().run()\n",
    "            num_pretrain_steps = 1000\n",
    "            for step in range(num_pretrain_steps):\n",
    "                d = (np.random.random(self.batch_size) - 0.5) * 10.0\n",
    "                labels = norm.pdf(d, loc=self.data.mu, scale=self.data.sigma)\n",
    "                pretrain_loss, _ = session.run([self.pre_loss, self.pre_opt], \n",
    "                                               {self.pre_input:np.reshape(d, (self.batch_size,1)), \n",
    "                                                self.pre_labels:np.reshape(labels, (self.batch_size,1))\n",
    "                                                })\n",
    "                self.weightsD = session.run(self.d_pre_params)\n",
    "                for i, v in enumerate(self.d_params):\n",
    "                    session.run(v.assign(self.weightsD[i]))\n",
    "                \n",
    "                for step in range(self.num_steps):\n",
    "                    # 更新判别器\n",
    "                    x = self.data.sample(self.batch_size)\n",
    "                    z = self.gen.sample(self.batch_size)\n",
    "                    loss_d, _ = session.run([self.loss_d, self.opt_d],{\n",
    "                        self.x: np.reshape(x, (self.batch_size, 1)),\n",
    "                        self.z: np.reshape(z, (self.batch_size, 1))\n",
    "                    })\n",
    "                    # 更新生成器\n",
    "                    z = self.gen.sample(self.batch_size)\n",
    "                    loss_g, _ = session.run([self.loss_g, self.opt_g], {\n",
    "                        self.z:np.reshape(z, (self.batch_size, 1))\n",
    "                    })\n",
    "                    if step % self.log_every == 0:\n",
    "                        print('{}:{}\\t {}'.format(step, loss_d, loss_g))\n",
    "                    if step % 100 == 0 or step==0 or step==self.num_steps - 1:\n",
    "                        self._plot_distributions(session)\n",
    "    \n",
    "    def _samples(self, session, num_points=10000, num_bins=100):\n",
    "        xs = np.linspace(-self.gen.range, self.gen.range, num_points)\n",
    "        bins = np.linspace(-self.gen.range, self.gen.range, num_bins)\n",
    "        # 数据分布\n",
    "        d = self.data.sample(num_points)\n",
    "        pd, _ = np.histogram(d, bins=bins, density=True)\n",
    "        # 生成样本\n",
    "        zs = np.linspace(-self.gen.range, self.gen.range, num_points)\n",
    "        g = np.zeros((num_points, 1))\n",
    "        for i in range(num_points // self.batch_size):\n",
    "            g[self.batch_size * i:self.batch * (i + 1)] = session.run(self.G,{self.z: np.reshape(zs[self.batch_size * (i + 1)], (self.batch_size, 1))})\n",
    "            pg, _ = np.histogram(g, bins=bins, density=True)\n",
    "            return pd, pg\n",
    "    \n",
    "    def _plot_distributions(self, session):\n",
    "        pd, pg = self._samples(session)\n",
    "        p_x = np.linspace(-self.gen.range, self.gen.range, len(pd))\n",
    "        f, ax = plt.subplots(1)\n",
    "        ax.set_ylim(0, 1)\n",
    "        plt.plot(p_x, pd, label='Real Data')\n",
    "        plt.plot(p_x, pg, label='generated Data')\n",
    "        plt.title('GAN')\n",
    "        plt.xlabel('Value')\n",
    "        plt.ylabel('Probability Density')\n",
    "        plt.legend()\n",
    "        plt.show()\n"
   ]
  },
  {
   "attachments": {},
   "cell_type": "markdown",
   "metadata": {},
   "source": [
    "可视化代码，对数据进行采样来展示生成数据与真实数据的分布\n"
   ]
  },
  {
   "cell_type": "code",
   "execution_count": 23,
   "metadata": {},
   "outputs": [],
   "source": [
    "# 主函数\n",
    "def main(args):\n",
    "    model = GAN(\n",
    "        DataDistribution(),\n",
    "        GeneratorDistribution(range=8),\n",
    "        1200,\n",
    "        12,\n",
    "        10,\n",
    "    )\n",
    "    model.train()"
   ]
  }
 ],
 "metadata": {
  "kernelspec": {
   "display_name": "Python 3",
   "language": "python",
   "name": "python3"
  },
  "language_info": {
   "codemirror_mode": {
    "name": "ipython",
    "version": 3
   },
   "file_extension": ".py",
   "mimetype": "text/x-python",
   "name": "python",
   "nbconvert_exporter": "python",
   "pygments_lexer": "ipython3",
   "version": "3.8.15"
  },
  "orig_nbformat": 4
 },
 "nbformat": 4,
 "nbformat_minor": 2
}
