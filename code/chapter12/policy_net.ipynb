{
 "cells": [
  {
   "attachments": {},
   "cell_type": "markdown",
   "metadata": {},
   "source": [
    "### 策略网络的实现"
   ]
  },
  {
   "attachments": {},
   "cell_type": "markdown",
   "metadata": {},
   "source": [
    "2 层的全连接网络\n",
    "\n",
    "第一层：\n",
    "\n",
    "长度为 4 的向量转换为长度为 128 的向量;\n",
    "\n",
    "第二层：\n",
    "\n",
    "长度为 128 的向量转换为 2 的向量;"
   ]
  },
  {
   "attachments": {},
   "cell_type": "markdown",
   "metadata": {},
   "source": [
    "\n",
    "![](img/01.jpg)\n"
   ]
  },
  {
   "cell_type": "code",
   "execution_count": null,
   "metadata": {},
   "outputs": [],
   "source": [
    "import tensorflow as tf\n",
    "from tensorflow import keras\n",
    "from tensorflow.keras import models, layers, optimizers"
   ]
  },
  {
   "cell_type": "code",
   "execution_count": null,
   "metadata": {},
   "outputs": [],
   "source": [
    "learning_rate = 0.0002\n",
    "gamma = 0.98"
   ]
  },
  {
   "cell_type": "code",
   "execution_count": null,
   "metadata": {},
   "outputs": [],
   "source": [
    "class Policy(keras.Model):\n",
    "    def __init__(self):\n",
    "        super(Policy, self).__init__()\n",
    "        self.data = []\n",
    "        self.data = [] # 存储轨迹\n",
    "        # Kaiming初始化，也称之为He初始化，又称之为MSRA初始化，出自何凯明(Kaiming He)\n",
    "        # 正态化的kaiming初始化——he_normal\n",
    "        self.fc1 = layers.Dense(128, kernel_initializer='he_normal')\n",
    "        self.fc2 = layers.Dense(2, kernel_initializer='he_normal')\n",
    "        # 网络优化器\n",
    "        self.optimizer = optimizers.Adam(learning_rate=learning_rate)\n",
    "        def call(self, inputs, training=None):\n",
    "            # 输入状态 s [4]\n",
    "            x = tf.nn.relu(self.fc1(inputs))\n",
    "            x = tf.nn.relu(self.fc2(x), axis=1)\n",
    "            return x\n",
    "\n",
    "        def train_net(self, tape):\n",
    "            R = 0 # 初始奖励为 0\n",
    "            for r, log_prob in self.data[::-1]:\n",
    "                R = r + gamma * R # 每个时间戳上的回报\n",
    "                loss = -log_prob * R\n",
    "                with tape.stop_recording():\n",
    "                    grads = tape.gradient(loss, self.trainable_variables)\n",
    "                    self.optimizer.apply_gradients(zip(grads, self.trainable_variables))\n",
    "            self.data = []"
   ]
  },
  {
   "cell_type": "code",
   "execution_count": null,
   "metadata": {},
   "outputs": [],
   "source": [
    "env = gym.make('CartPole-v1')\n",
    "def main():\n",
    "    pi = Policy()\n",
    "    pi(tf.random.normal((4, 4)))\n",
    "    pi.summary()\n",
    "    score = 0.0\n",
    "    print_interval = 20 # 打印间隔\n",
    "    returns = []\n",
    "\n",
    "    for n_epi in range(400):\n",
    "        s = env.reset() # 回到初始状态\n",
    "        "
   ]
  }
 ],
 "metadata": {
  "kernelspec": {
   "display_name": "Python 3",
   "language": "python",
   "name": "python3"
  },
  "language_info": {
   "name": "python",
   "version": "3.8.16"
  },
  "orig_nbformat": 4
 },
 "nbformat": 4,
 "nbformat_minor": 2
}
