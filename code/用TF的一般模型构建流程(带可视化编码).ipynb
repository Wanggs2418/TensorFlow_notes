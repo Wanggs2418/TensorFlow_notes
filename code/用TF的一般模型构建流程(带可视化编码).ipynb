{
 "cells": [
  {
   "attachments": {},
   "cell_type": "markdown",
   "metadata": {},
   "source": [
    "## 模型构建的一般流程"
   ]
  },
  {
   "attachments": {},
   "cell_type": "markdown",
   "metadata": {},
   "source": [
    "### 前置包的导入"
   ]
  },
  {
   "cell_type": "code",
   "execution_count": 55,
   "metadata": {},
   "outputs": [],
   "source": [
    "import tensorflow as tf\n",
    "from tensorflow import keras\n",
    "# 引用经典数据集时的 datasets，适用容器 Sequential, 网络层的父类 layers，网络的父类 Model,优化器 optimizers\n",
    "# 损失类 loss\n",
    "from tensorflow.keras import datasets, Sequential, layers,optimizers\n",
    "import  datetime\n",
    "import matplotlib.pyplot as plt\n",
    "import io"
   ]
  },
  {
   "cell_type": "markdown",
   "metadata": {},
   "source": [
    "### 数据预处理"
   ]
  },
  {
   "cell_type": "code",
   "execution_count": 56,
   "metadata": {},
   "outputs": [],
   "source": [
    "#以图片数据为例，适用于全连接层\n",
    "def preprocess(x, y):\n",
    "    \"\"\"\n",
    "    自定义预处理函数\n",
    "    参数：\n",
    "    x -- 待处理的数据集,维度[b,28,28]\n",
    "    y -- 待处理的数据集,[b]\n",
    "\n",
    "    返回值：\n",
    "    x -- 标准化和扁平化后的 x\n",
    "    y -- 转换为 one_hot 向量\n",
    "    \"\"\"\n",
    "    x = tf.cast(x, dtype=tf.float32) / 255. #标准化0-1\n",
    "     #扁平化-不建议，后续需要用 squeeze函数处理。者此处不设，而在输入的时候对x设置x.reshape(x,(-1, 28*28))\n",
    "    # x = tf.reshape(x, [-1, 28*28])\n",
    "\n",
    "    y = tf.cast(y, dtype=tf.int32)\n",
    "    y = tf.one_hot(y, depth=10)\n",
    "\n",
    "    return x,y"
   ]
  },
  {
   "cell_type": "markdown",
   "metadata": {},
   "source": [
    "### 数据集加载"
   ]
  },
  {
   "attachments": {},
   "cell_type": "markdown",
   "metadata": {},
   "source": [
    "拓展：可以考虑其他测试集进行，如 fashion_mnist,相比于 mnist 复杂"
   ]
  },
  {
   "cell_type": "code",
   "execution_count": 57,
   "metadata": {},
   "outputs": [
    {
     "name": "stdout",
     "output_type": "stream",
     "text": [
      "数据集mnist中x的维度 (60000, 28, 28) 数据集mnist中y的维度 (60000,)\n"
     ]
    }
   ],
   "source": [
    "(x,y), (x_test, y_test)=datasets.mnist.load_data()\n",
    "print('数据集mnist中x的维度', x.shape, '数据集mnist中y的维度', y.shape)\n",
    "#数据加载后，需要转换为 Dataset对象\n",
    "train_db = tf.data.Dataset.from_tensor_slices((x, y))\n",
    "test_db = tf.data.Dataset.from_tensor_slices((x_test, y_test))\n",
    "\n",
    "# db = db.step1().step2().step3()\n",
    "# shuffle(缓冲区大小，一般是一个较大的常数)，btach(一批的样本数量)\n",
    "train_db = train_db.map(preprocess).shuffle(10000).batch(128)\n",
    "test_db = test_db.map(preprocess).batch(128)"
   ]
  },
  {
   "cell_type": "code",
   "execution_count": 58,
   "metadata": {},
   "outputs": [
    {
     "name": "stdout",
     "output_type": "stream",
     "text": [
      "批样本 x 维度: (128, 28, 28) 批样本 y 维度 (128, 10)\n"
     ]
    }
   ],
   "source": [
    "# 数据维度查看\n",
    "db_iter = iter(train_db)\n",
    "sample = next(db_iter)\n",
    "print('批样本 x 维度:', sample[0].shape,\"批样本 y 维度\", sample[1].shape)"
   ]
  },
  {
   "attachments": {},
   "cell_type": "markdown",
   "metadata": {},
   "source": [
    "### 模型的构建"
   ]
  },
  {
   "attachments": {},
   "cell_type": "markdown",
   "metadata": {},
   "source": [
    "拓展：增加网络的层数，观察损失和准确率"
   ]
  },
  {
   "cell_type": "code",
   "execution_count": 59,
   "metadata": {},
   "outputs": [
    {
     "name": "stdout",
     "output_type": "stream",
     "text": [
      "Model: \"sequential_5\"\n",
      "_________________________________________________________________\n",
      "Layer (type)                 Output Shape              Param #   \n",
      "=================================================================\n",
      "dense_15 (Dense)             (None, 512)               401920    \n",
      "_________________________________________________________________\n",
      "dense_16 (Dense)             (None, 256)               131328    \n",
      "_________________________________________________________________\n",
      "dense_17 (Dense)             (None, 10)                2570      \n",
      "=================================================================\n",
      "Total params: 535,818\n",
      "Trainable params: 535,818\n",
      "Non-trainable params: 0\n",
      "_________________________________________________________________\n"
     ]
    }
   ],
   "source": [
    "model = keras.Sequential([ \n",
    "    layers.Dense(512, activation='relu'),\n",
    "    layers.Dense(256, activation='relu'),\n",
    "    layers.Dense(10)])\n",
    "model.build(input_shape=[None, 28*28])\n",
    "# 将网络结构显示出来\n",
    "model.summary()"
   ]
  },
  {
   "attachments": {},
   "cell_type": "markdown",
   "metadata": {},
   "source": [
    "### 梯度下降和优化"
   ]
  },
  {
   "attachments": {},
   "cell_type": "markdown",
   "metadata": {},
   "source": [
    "均方误差函数\n",
    "\n",
    "$$MSE(y, out)=\\frac{1}{m} \\sum_{i=1}^m (y_i - out_i)^2 $$"
   ]
  },
  {
   "cell_type": "code",
   "execution_count": 60,
   "metadata": {},
   "outputs": [],
   "source": [
    "# 可视化操作\n",
    "current_time = datetime.datetime.now().strftime(\"%Y%m%d-%H%M%S\")\n",
    "log_dir = 'logs/' + current_time\n",
    "# 用相关函数创建对象\n",
    "summary_writer = tf.summary.create_file_writer(log_dir) \n",
    "\n",
    "# get x from (x,y)\n",
    "sample_img = next(iter(train_db))[0]\n",
    "# get first image instance\n",
    "sample_img = sample_img[0]\n",
    "sample_img = tf.reshape(sample_img, [1, 28, 28, 1])\n",
    "with summary_writer.as_default():\n",
    "    tf.summary.image(\"Training sample:\", sample_img, step=0)"
   ]
  },
  {
   "cell_type": "code",
   "execution_count": 61,
   "metadata": {},
   "outputs": [],
   "source": [
    "# 可视化要求的数据\n",
    "def image_grid(images):\n",
    "  \"\"\"Return a 5x5 grid of the MNIST images as a matplotlib figure.\"\"\"\n",
    "  # Create a figure to contain the plot.\n",
    "  figure = plt.figure(figsize=(10,10))\n",
    "  for i in range(25):\n",
    "    # Start next subplot.\n",
    "    plt.subplot(5, 5, i + 1, title='name')\n",
    "    plt.xticks([])\n",
    "    plt.yticks([])\n",
    "    plt.grid(False)\n",
    "    plt.imshow(images[i], cmap=plt.cm.binary)\n",
    "  \n",
    "  return figure"
   ]
  },
  {
   "cell_type": "code",
   "execution_count": 62,
   "metadata": {},
   "outputs": [],
   "source": [
    "# 可视化要求的数据\n",
    "def plot_to_image(figure):\n",
    "  \"\"\"Converts the matplotlib plot specified by 'figure' to a PNG image and\n",
    "  returns it. The supplied figure is closed and inaccessible after this call.\"\"\"\n",
    "  # Save the plot to a PNG in memory.\n",
    "  buf = io.BytesIO()\n",
    "  plt.savefig(buf, format='png')\n",
    "  # Closing the figure prevents it from being displayed directly inside\n",
    "  # the notebook.\n",
    "  plt.close(figure)\n",
    "  buf.seek(0)\n",
    "  # Convert PNG buffer to TF image\n",
    "  image = tf.image.decode_png(buf.getvalue(), channels=4)\n",
    "  # Add the batch dimension\n",
    "  image = tf.expand_dims(image, 0)\n",
    "  return image"
   ]
  },
  {
   "cell_type": "code",
   "execution_count": null,
   "metadata": {},
   "outputs": [],
   "source": [
    "# optimizer = optimizers.SGD(learning_rate=0.001)\n",
    "# 优化器设置,完成更新过程 w = w - lr * grad\n",
    "optimizer = optimizers.Adam(learning_rate=0.001)\n",
    "for epoch in range(30):\n",
    "    for step, (x, y) in enumerate(train_db):\n",
    "        x = tf.reshape(x, [-1, 28*28])\n",
    "        with tf.GradientTape() as tape:\n",
    "            # 前向传播，[b, 28*28] => [b, 10]\n",
    "            out = model(x)\n",
    "            # from_logits=True设置为True,表示未经过 softmax，不是 prob，而是具体的数值\n",
    "            loss = tf.reduce_mean(tf.losses.categorical_crossentropy(y, out, from_logits=True))\n",
    "            loss_mse = tf.reduce_mean(tf.losses.MSE(y, out))\n",
    "        # 参数量集合 model.trainable_variables 包含 w1, b1, w2, b2...\n",
    "        grads = tape.gradient(loss, model.trainable_variables)\n",
    "        optimizer.apply_gradients(zip(grads, model.trainable_variables))\n",
    "    \n",
    "        if step % 500 == 0:\n",
    "            print(epoch, step, '交叉熵损失函数', float(loss), \"均方误差函数\", float(loss_mse))\n",
    "        \n",
    "        # 可视化1\n",
    "        if step % 100 == 0:\n",
    "            with summary_writer.as_default(): \n",
    "                tf.summary.scalar('train-loss', float(loss), step=step) \n",
    "        \n",
    "    \n",
    "    # 测试集\n",
    "    correct_num, total_correct, total_num = 0, 0, 0\n",
    "    for x,y in test_db:\n",
    "        # x:[b, 28, 28] => [b, 28*28]\n",
    "        # y:[b]\n",
    "        x = tf.reshape(x, [-1, 28*28])\n",
    "        logits = model(x)\n",
    "        # 先将 logits => prob 转换为概率,然后求出概率最大值所在的索引\n",
    "        # [b] => [b, 10]\n",
    "        prob = tf.nn.softmax(logits)\n",
    "        # [b, 10] => [b],pred -- int64\n",
    "        pred = tf.argmax(prob, axis=1)\n",
    "        # print(pred) \n",
    "        y = tf.argmax(y, axis=1)\n",
    "        # print(y)\n",
    "        correct_num = tf.equal(pred, y)\n",
    "        correct_num = tf.reduce_sum(tf.cast(correct_num, tf.int32)).numpy()\n",
    "        # 不使用numpy时，采用int(correct_num)\n",
    "        total_correct += correct_num\n",
    "\n",
    "        total_num += x.shape[0]\n",
    "    \n",
    "    acc = total_correct / total_num\n",
    "    print(\"准确率为：\",acc)   \n",
    "    \n",
    "    val_images = x[:16]\n",
    "    # print(val_images)\n",
    "    val_images = tf.reshape(val_images, [-1, 28, 28, 1])\n",
    "    # print(val_images)\n",
    "    with summary_writer.as_default():\n",
    "        tf.summary.scalar('test-acc', float(acc), step=step)\n",
    "        # 零散的图片\n",
    "        tf.summary.image(\"val-onebyone-images:\", val_images, max_outputs=25, step=step)\n",
    "            \n",
    "        val_images = tf.reshape(val_images, [-1, 28, 28])\n",
    "        # print(val_images)\n",
    "        figure  = image_grid(val_images)\n",
    "        # 拼接的图片\n",
    "        tf.summary.image('val-images:', plot_to_image(figure), step=step)   \n"
   ]
  }
 ],
 "metadata": {
  "kernelspec": {
   "display_name": "Python 3",
   "language": "python",
   "name": "python3"
  },
  "language_info": {
   "codemirror_mode": {
    "name": "ipython",
    "version": 3
   },
   "file_extension": ".py",
   "mimetype": "text/x-python",
   "name": "python",
   "nbconvert_exporter": "python",
   "pygments_lexer": "ipython3",
   "version": "3.8.15"
  },
  "orig_nbformat": 4
 },
 "nbformat": 4,
 "nbformat_minor": 2
}
